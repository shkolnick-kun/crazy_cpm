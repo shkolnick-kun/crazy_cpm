{
 "cells": [
  {
   "cell_type": "code",
   "execution_count": 1,
   "metadata": {},
   "outputs": [],
   "source": [
    "import numpy as np\n",
    "import _ccpm\n",
    "\n",
    "from sqlalchemy import create_engine, inspect, ForeignKey, Column, Integer, Float, String, and_, null\n",
    "\n",
    "from sqlalchemy.orm import relationship, remote, backref\n",
    "from sqlalchemy.orm.collections import attribute_mapped_collection\n",
    "from sqlalchemy.orm.session import Session\n",
    "\n",
    "from sqlalchemy.ext.declarative import declarative_base\n",
    "Base = declarative_base()"
   ]
  },
  {
   "cell_type": "code",
   "execution_count": 2,
   "metadata": {},
   "outputs": [],
   "source": [
    "class NetworkModel(Base):\n",
    "    __tablename__ = 'models'\n",
    "\n",
    "    id          = Column(Integer, primary_key = True, autoincrement=True)\n",
    "    name        = Column(String, nullable=False)\n",
    "    description = Column(String)\n",
    "    \n",
    "    #Work breakdown structure\n",
    "    wbs        = relationship('WBSRecord', backref='model', cascade = 'all, delete-orphan')\n",
    "    wbs_root   = relationship('WBSRecord', viewonly=True,\n",
    "                              primaryjoin='and_(WBSRecord.model_id == NetworkModel.id, WBSRecord.parent_id == null())')\n",
    "    \n",
    "    # Network model elements\n",
    "    activities = relationship('Activity' , backref='model', cascade = 'all, delete-orphan') # AoN AoA\n",
    "    links      = relationship('Link'     , backref='model', cascade = 'all, delete-orphan') # AoN  -\n",
    "    events     = relationship('Event'    , backref='model', cascade = 'all, delete-orphan') #  -  AoA\n",
    "    \n",
    "    # Visualization elements\n",
    "    nodes      = relationship('Node'     , backref='model', cascade = 'all, delete-orphan')\n",
    "    edges      = relationship('Edge'     , backref='model', cascade = 'all, delete-orphan')\n",
    "    \n",
    "    #----------------------------------------------------------------------------------------------\n",
    "    def __init__(self, name, description='', session=None):\n",
    "        self.name        = name\n",
    "        self.description = description\n",
    "        \n",
    "        if session:\n",
    "            assert isinstance(session, Session)\n",
    "\n",
    "            session.add(self)\n",
    "            session.flush() #We've got an id now\n",
    "\n",
    "    #----------------------------------------------------------------------------------------------\n",
    "    def describe(self):\n",
    "        print(self.id, ':', self.name, ':', self.description)\n",
    "    \n",
    "    #----------------------------------------------------------------------------------------------\n",
    "    def copy(self, name=None):\n",
    "        if not name:\n",
    "            cp = NetworkModel(description=self.description, \n",
    "                              name='Copy of: ' + self.name,\n",
    "                              session=inspect(self).session)\n",
    "        else:\n",
    "            cp = NetworkModel(description=self.description, \n",
    "                              name=name,\n",
    "                              session=inspect(self).session)\n",
    "        for w in self.wbs_root:\n",
    "            w.copy(model=cp)\n",
    "        \n",
    "        cp.links  = [l.copy(model=cp) for l in self.links]\n",
    "        cp.events = [e.copy(model=cp) for e in self.events]\n",
    "        \n",
    "        cp.nodes  = [n.copy(model=cp) for n in self.nodes]\n",
    "        cp.edges  = [e.copy(model=cp) for e in self.edges]\n",
    "\n",
    "        inspect(self).session.flush()\n",
    "        return cp\n",
    "    \n",
    "    #----------------------------------------------------------------------------------------------\n",
    "    @property\n",
    "    def _iwbs(self):\n",
    "        return dict([(w.path, i) for i,w in enumerate(self.wbs)])\n",
    "    \n",
    "    def wbs_record(self, path):\n",
    "        return self.wbs[self._iwbs[path]]\n",
    "    \n",
    "    #----------------------------------------------------------------------------------------------\n",
    "    def compute_aoa(self):\n",
    "        session = inspect(self).session\n",
    "        session.flush()\n",
    "\n",
    "        act_id = session.query(Activity.id).filter(Activity.model_id == self.id).all()\n",
    "        act_id = np.array(tuple(zip(*act_id))[0])\n",
    "        \n",
    "        lnk_ids = tuple(zip(*session.query(Link.src_id, Link.dst_id).filter(Link.model_id == self.id).all()))\n",
    "        lnk_src = np.array(lnk_ids[0])\n",
    "        lnk_dst = np.array(lnk_ids[1])\n",
    "        print(act_id, lnk_src, lnk_dst)\n",
    "        \n",
    "        print(_ccpm.compute_aoa(act_id, lnk_src, lnk_dst))\n",
    "        #print(lnk_src)\n",
    "        #print(lnk_dst)\n",
    "        \n",
    "        \n",
    "    #----------------------------------------------------------------------------------------------\n",
    "    def delete_aoa(self):\n",
    "        if not self.events:\n",
    "            return\n",
    "        self.events = []\n",
    "        self.nodes  = []\n",
    "        self.edges  = []\n",
    "        for a in self.activities:\n",
    "            a.src = None\n",
    "            a.dst = None\n",
    "    #----------------------------------------------------------------------------------------------\n",
    "    def refresh(self):\n",
    "        sesion = inspect(self).session\n",
    "        session.flush()\n",
    "        session.expire(self)\n",
    "    #----------------------------------------------------------------------------------------------\n",
    "    def delete_activity(self, activity):\n",
    "        if activity:\n",
    "            assert isinstance(activity, Activity)\n",
    "            assert activity.model_id == self.id\n",
    "\n",
    "            self.activities.remove(activity)\n",
    "            self.delete_aoa()\n",
    "            self.refresh()\n",
    "    \n",
    "    #----------------------------------------------------------------------------------------------\n",
    "    def delete_wbs_record(self, path):\n",
    "        i = self._iwbs[path]\n",
    "        \n",
    "        if self.wbs[i].has_activities():\n",
    "            self.delete_aoa()\n",
    "\n",
    "        del self.wbs[i]\n",
    "        self.refresh()\n",
    "\n",
    "    #----------------------------------------------------------------------------------------------\n",
    "    def delete_link(self, link):\n",
    "        if link:\n",
    "            assert isinstance(link, Link)\n",
    "            assert link.model_id == self.id\n",
    "            self.delete_aoa()\n",
    "            self.links.remove(link)\n",
    "            self.refresh()\n",
    "            \n",
    "    #----------------------------------------------------------------------------------------------\n",
    "    #def __delete__(self, instance):\n",
    "    #    print('Deleted model: ', self.id)\n",
    "    #    super().__delete__(instance)\n",
    "            \n",
    "\n",
    "###################################################################################################\n",
    "class WBSRecord(Base):\n",
    "    __tablename__ = 'wbs'\n",
    "\n",
    "    id        = Column(Integer, primary_key=True, autoincrement=True)\n",
    "    model_id  = Column(Integer, ForeignKey('models.id'))\n",
    "    parent_id = Column(Integer, ForeignKey('wbs.id'))\n",
    "    \n",
    "    path      = Column(String, nullable=False, index=True)\n",
    "    name      = Column(String, nullable=False)\n",
    "    \n",
    "    children = relationship(\"WBSRecord\",\n",
    "                            remote_side=parent_id,\n",
    "                            back_populates='parent',\n",
    "                            cascade='all'\n",
    "                           )\n",
    "    \n",
    "    parent  = relationship(\"WBSRecord\",\n",
    "                            remote_side=id,\n",
    "                            back_populates='children',\n",
    "                           )\n",
    "    \n",
    "    activity = relationship('Activity', \n",
    "                            backref='wbs', \n",
    "                            cascade = 'all', \n",
    "                            uselist=False)\n",
    "    \n",
    "    #----------------------------------------------------------------------------------------------\n",
    "    def __init__(self, name, parent=None, model=None):\n",
    "        if parent:\n",
    "            assert isinstance(parent, WBSRecord)\n",
    "            model = parent.model\n",
    "\n",
    "        assert isinstance(model, NetworkModel)\n",
    "\n",
    "        self.name   = name\n",
    "        self.parent = parent\n",
    "        self.model  = model\n",
    "        self.path   = ''\n",
    "\n",
    "        inspect(self).session.flush()\n",
    "        # We've got an id now!\n",
    "\n",
    "        if parent:\n",
    "            self.path += parent.path + '.'\n",
    "        self.path += str(self.id)\n",
    "\n",
    "    #----------------------------------------------------------------------------------------------\n",
    "    def _propagate_path(self, new_path_base):\n",
    "        if self.parent:\n",
    "            self.path = self.parent.path + '.' + str(self.id)\n",
    "        else:\n",
    "            self.path = str(self.id)\n",
    "\n",
    "        for c in self.children:\n",
    "            c._propagate_path(self.path)\n",
    "\n",
    "    #----------------------------------------------------------------------------------------------\n",
    "    def move_to(self, new_path_base):\n",
    "        assert isinstance(new_path_base, str)\n",
    "        \n",
    "        if new_path_base != '':\n",
    "            if new_path_base.startswith(self.path):\n",
    "                raise ValueError('WTF R U doing motherfucker???')\n",
    "            self.parent = self.model.comment(new_path_base)\n",
    "        else:\n",
    "            self.parent = None\n",
    "\n",
    "        self._propagate_path(new_path_base)\n",
    "\n",
    "        inspect(self).session.flush()\n",
    "        \n",
    "    #----------------------------------------------------------------------------------------------\n",
    "    def swap(self, wbs):\n",
    "        assert isinstance(wbs, WBSRecord)\n",
    "        \n",
    "        assert wbs.activity\n",
    "        assert isinstance(wbs.activity, Activity)\n",
    "        \n",
    "        assert self.activity\n",
    "        assert isinstance(self.activity, Activity)\n",
    "        \n",
    "        temp = self.name\n",
    "        self.name = wbs.name\n",
    "        wbs.name  = temp\n",
    "        \n",
    "        temp = self.activity\n",
    "        self.activity = wbs.activity\n",
    "        wbs.activity  = temp\n",
    "        \n",
    "        inspect(self).session.flush()\n",
    "        \n",
    "    #----------------------------------------------------------------------------------------------\n",
    "    def copy(self, parent=None, model=None):\n",
    "        cp = WBSRecord(self.name, parent=parent, model=model)\n",
    "\n",
    "        if isinstance(self.activity, Activity):\n",
    "            cp.activity = self.activity.copy(cp)\n",
    "\n",
    "        cp.children = [c.copy(parent=cp) for c in self.children]\n",
    "\n",
    "        return cp\n",
    "    \n",
    "    #----------------------------------------------------------------------------------------------\n",
    "    def has_activities(self):\n",
    "        if self.activity:\n",
    "            assert isinstance(self.activity, Activity)\n",
    "            return True\n",
    "        \n",
    "        for c in self.children:\n",
    "            if c.has_activities():\n",
    "                return True\n",
    "        \n",
    "        return False\n",
    "\n",
    "    #----------------------------------------------------------------------------------------------\n",
    "    def __repr__(self):\n",
    "        return 'WBSRecord(model_id=%r id=%r, path=%r, name=%r)' % (\n",
    "            self.model_id,\n",
    "            self.id,\n",
    "            self.path,\n",
    "            self.name\n",
    "        )\n",
    "\n",
    "    #----------------------------------------------------------------------------------------------\n",
    "    def dump(self, _level=0):\n",
    "        return (\n",
    "                '   ' * _level\n",
    "                + repr(self)\n",
    "                + \"\\n\"\n",
    "                + \"\".join([c.dump(_level + 1) for c in self.children])\n",
    "        )\n",
    "\n",
    "###################################################################################################\n",
    "class Activity(Base):\n",
    "    __tablename__ = 'activities'\n",
    "\n",
    "    \n",
    "    model_id = Column(Integer, ForeignKey('models.id'), primary_key=True)\n",
    "    id       = Column(Integer,                          primary_key=True)\n",
    "    \n",
    "    wbs_id   = Column(Integer, ForeignKey('wbs.id'))\n",
    "        \n",
    "    in_links  = relationship('Link', \n",
    "                             primaryjoin='and_(Activity.model_id == Link.model_id, Activity.id == Link.src_id)',\n",
    "                             backref='src', cascade='all, delete-orphan')\n",
    "    out_links = relationship('Link', \n",
    "                             primaryjoin='and_(Activity.model_id == Link.model_id, Activity.id == Link.dst_id)', \n",
    "                             backref='dst', cascade='all, delete-orphan')\n",
    "\n",
    "    #Работы являются связями для событий\n",
    "    src_id    = Column(Integer, ForeignKey('events.id'))\n",
    "    dst_id    = Column(Integer, ForeignKey('events.id'))\n",
    "    \n",
    "    #CPM Data\n",
    "    duration    = Column(Float, default=0.0) # Длительность работы\n",
    "    early_start = Column(Float, default=0.0) # Ранний старт\n",
    "    late_start  = Column(Float, default=0.0) # Поздний старт\n",
    "    early_end   = Column(Float, default=0.0) # Ранний финиш\n",
    "    late_end    = Column(Float, default=0.0) # Поздний финиш\n",
    "    reserve     = Column(Float, default=0.0) # Резерв времени\n",
    "    \n",
    "    def __init__(self, wbs, id=None, src=None, dst=None, src_id=None, dst_id=None):\n",
    "        assert isinstance(wbs, WBSRecord)\n",
    "\n",
    "        if src:\n",
    "            assert isinstance(src, Event)\n",
    "            src_id = src.id\n",
    "\n",
    "        if dst:\n",
    "            assert isinstance(dst, Event)\n",
    "            dst_id = dst.id\n",
    "\n",
    "        self.model  = wbs.model\n",
    "        #Обеспечили уникальность при генерации и возможность копирования\n",
    "        self.id     = id if id else wbs.id\n",
    "        self.wbs    = wbs\n",
    "        self.src_id = src_id\n",
    "        self.dst_id = dst_id\n",
    "        \n",
    "        if self.model:\n",
    "            assert isinstance(self.model, NetworkModel)\n",
    "            self.model.delete_aoa()\n",
    "        \n",
    "        inspect(self).session.flush()\n",
    "        \n",
    "    #----------------------------------------------------------------------------------------------\n",
    "    def __delete__(self, instance):\n",
    "        print('!!!!!!!!!!!!!!!!!!!!!!!!!!!!!!!!!!!!!!!!!!!!!!!!!!')\n",
    "        print('Will delete:', self)\n",
    "        print('!!!!!!!!!!!!!!!!!!!!!!!!!!!!!!!!!!!!!!!!!!!!!!!!!!')\n",
    "        super().__delete__(instance)\n",
    "        \n",
    "    #----------------------------------------------------------------------------------------------\n",
    "    def __repr__(self):\n",
    "        return 'Activity(model_id=%r id=%r, wbs.path=%r, wbs.name=%r, src_id=%r, dst_id=%r)' % (\n",
    "            self.model_id,\n",
    "            self.id,\n",
    "            self.wbs.path,\n",
    "            self.wbs.name,\n",
    "            self.src_id,\n",
    "            self.dst_id\n",
    "        )\n",
    "    \n",
    "    #----------------------------------------------------------------------------------------------\n",
    "    def copy(self, wbs):\n",
    "        return Activity(wbs, src=self.src, dst=self.dst, id=self.id)\n",
    "\n",
    "###################################################################################################\n",
    "class Link(Base):\n",
    "    __tablename__ = 'links'\n",
    "\n",
    "    model_id  = Column(Integer, ForeignKey('models.id'    ),  primary_key=True)\n",
    "    src_id    = Column(Integer, ForeignKey('activities.id'),  primary_key=True)\n",
    "    dst_id    = Column(Integer, ForeignKey('activities.id'),  primary_key=True)\n",
    "    \n",
    "    def _clean_aoa(self):\n",
    "        if self.model:\n",
    "            assert isinstance(self.model, NetworkModel)\n",
    "            self.model.delete_aoa()\n",
    "            inspect(self).session.flush()\n",
    "    \n",
    "    def __init__(self, model=None, src=None, dst=None, src_id=None, dst_id=None):\n",
    "\n",
    "        if model:\n",
    "            assert isinstance(model, NetworkModel)\n",
    "        \n",
    "        if src:\n",
    "            assert isinstance(src, Activity)\n",
    "            src_id = src.id\n",
    "            \n",
    "        if dst:\n",
    "            assert isinstance(dst, Activity)\n",
    "            dst_id = dst.id\n",
    "            \n",
    "        if src and dst:\n",
    "            assert src.model_id == dst.model_id\n",
    "\n",
    "        if not model:\n",
    "            model = src.model\n",
    "                \n",
    "        self.model    = model\n",
    "        self.src_id   = src_id\n",
    "        self.dst_id   = dst_id\n",
    "        \n",
    "        self._clean_aoa()\n",
    "\n",
    "    #----------------------------------------------------------------------------------------------\n",
    "    def set_src(self, node):\n",
    "        assert isinstance(node, Node)\n",
    "        assert node.model_id == self.model_id\n",
    "        \n",
    "        if node.id != self.src_id:\n",
    "            self.src = node\n",
    "            self._clean_aoa()\n",
    "            inspect(self).session.flush()\n",
    "            \n",
    "    #----------------------------------------------------------------------------------------------\n",
    "    def set_dst(self, node):\n",
    "        assert isinstance(node, Node)\n",
    "        assert node.model_id == self.model_id\n",
    "        \n",
    "        if node.id != self.dst_id:\n",
    "            self.dst = node\n",
    "            self._clean_aoa()\n",
    "            inspect(self).session.flush()\n",
    "        \n",
    "    #----------------------------------------------------------------------------------------------\n",
    "    #def __delete__(self, instance):\n",
    "    #    self._clean_aoa()\n",
    "    #    super().__delete__(instance)\n",
    "            \n",
    "    #----------------------------------------------------------------------------------------------\n",
    "    def __repr__(self):\n",
    "        return 'Link(model_id=%r src_id=%r, dst_id=%r)' % (\n",
    "            self.model_id,\n",
    "            self.src_id,\n",
    "            self.dst_id\n",
    "        )\n",
    "    #----------------------------------------------------------------------------------------------\n",
    "    def copy(self, model):\n",
    "        return Link(src=self.src, dst=self.dst, model=model)\n",
    "\n",
    "###################################################################################################\n",
    "class Event(Base):\n",
    "    __tablename__ = 'events'\n",
    "\n",
    "    id       = Column(Integer,                          primary_key=True)\n",
    "    model_id = Column(Integer, ForeignKey('models.id'), primary_key=True)\n",
    "\n",
    "    in_activities  = relationship('Activity', \n",
    "                             primaryjoin='and_(Event.model_id == Activity.model_id, Event.id == Activity.src_id)',\n",
    "                             backref='src')\n",
    "    out_activities = relationship('Activity', \n",
    "                             primaryjoin='and_(Event.model_id == Activity.model_id, Event.id == Activity.dst_id)', \n",
    "                             backref='dst')\n",
    "    \n",
    "    early   = Column(Float, default=0.0) #Ранее время наступления\n",
    "    late    = Column(Float, default=0.0) #Позднее время наступления\n",
    "    reserve = Column(Float, default=0.0) #Резерв времени\n",
    "    \n",
    "    def __init__(self, model, id):\n",
    "        assert isinstance(model, NetworkModel)\n",
    "        \n",
    "        self.model = model\n",
    "        self.id = id\n",
    "\n",
    "    #----------------------------------------------------------------------------------------------\n",
    "    def __repr__(self):\n",
    "        return 'Event(model_id=%r id=%r)' % (\n",
    "            self.model_id,\n",
    "            self.id\n",
    "        )\n",
    "\n",
    "    #----------------------------------------------------------------------------------------------\n",
    "    def copy(self, model):\n",
    "        return Event(model=model,id=self.id)\n",
    "    \n",
    "    def __delete__(self, instance):\n",
    "        print('!!!!!!!!!!!!!!!!!!!!!!!!!!!!!!!!!!!!!!!!!!!!!!!!!!')\n",
    "        print('Will delete:', self)\n",
    "        print('!!!!!!!!!!!!!!!!!!!!!!!!!!!!!!!!!!!!!!!!!!!!!!!!!!')\n",
    "        super().__delete__(instance)\n",
    "    \n",
    "###################################################################################################\n",
    "class Node(Base):\n",
    "    __tablename__ = 'nodes'\n",
    "    \n",
    "    model_id = Column(Integer, ForeignKey('models.id'), primary_key=True)\n",
    "    id       = Column(Integer,                          primary_key=True)\n",
    "    \n",
    "    event_id = Column(Integer, ForeignKey('events.id'))\n",
    "    \n",
    "    x = Column(Float, default=0.0)\n",
    "    y = Column(Float, default=0.0)\n",
    "        \n",
    "    in_edges  = relationship('Edge', \n",
    "                             primaryjoin='and_(Node.model_id == Edge.model_id, Node.id == Edge.src_id)',\n",
    "                             backref='src', cascade = 'all, delete-orphan')\n",
    "    out_edges = relationship('Edge', \n",
    "                             primaryjoin='and_(Node.model_id == Edge.model_id, Node.id == Edge.dst_id)', \n",
    "                             backref='dst', cascade = 'all, delete-orphan')\n",
    "    \n",
    "    event = relationship('Event',\n",
    "                         primaryjoin='and_(Node.model_id == Event.model_id, Node.event_id == Event.id)')\n",
    "    \n",
    "    def __init__(self, id, model=None,  event=None):\n",
    "        if model:\n",
    "            assert isinstance(model, NetworkModel)\n",
    "        \n",
    "        if event:\n",
    "            assert isinstance(event, Event)\n",
    "            self.event_id = event.id\n",
    "\n",
    "            if not model:\n",
    "                model = event.model\n",
    "\n",
    "        self.model = model\n",
    "        self.id    = id\n",
    "\n",
    "    #----------------------------------------------------------------------------------------------\n",
    "    def __repr__(self):\n",
    "        return 'Node(model_id=%r, id=%r, event_id=%r)' % (\n",
    "            self.model_id,\n",
    "            self.id,\n",
    "            self.event_id\n",
    "        )\n",
    "    \n",
    "    #----------------------------------------------------------------------------------------------\n",
    "    def copy(self, model):\n",
    "        return Node(self.id, model=model, event=self.event)\n",
    "\n",
    "###################################################################################################\n",
    "class Edge(Base):\n",
    "    __tablename__ = 'edges'\n",
    "\n",
    "    model_id  = Column(Integer, ForeignKey('models.id'),  primary_key=True)\n",
    "    src_id    = Column(Integer, ForeignKey('nodes.id') ,  primary_key=True)\n",
    "    dst_id    = Column(Integer, ForeignKey('nodes.id') ,  primary_key=True)\n",
    "    \n",
    "    def __init__(self, model=None, src=None, dst=None, src_id=None, dst_id=None):\n",
    "\n",
    "        if model:\n",
    "            assert isinstance(model, NetworkModel)\n",
    "        \n",
    "        if src:\n",
    "            assert isinstance(src, Node)\n",
    "            src_id = src.id\n",
    "            \n",
    "        if dst:\n",
    "            assert isinstance(dst, Node)\n",
    "            dst_id = dst.id\n",
    "            \n",
    "        if src and dst:\n",
    "            assert src.model_id == dst.model_id\n",
    "\n",
    "        if not model:\n",
    "            model = src.model\n",
    "                \n",
    "        self.model  = model\n",
    "        self.src_id = src_id\n",
    "        self.dst_id = dst_id\n",
    "            \n",
    "    #----------------------------------------------------------------------------------------------\n",
    "    def __repr__(self):\n",
    "        return 'Edge(model_id=%r src_id=%r, dst_id=%r)' % (\n",
    "            self.model_id,\n",
    "            self.src_id,\n",
    "            self.dst_id\n",
    "        )\n",
    "    #----------------------------------------------------------------------------------------------\n",
    "    def copy(self, model):\n",
    "        return Edge(src=self.src, dst=self.dst, model=model)"
   ]
  },
  {
   "cell_type": "code",
   "execution_count": 3,
   "metadata": {},
   "outputs": [],
   "source": [
    "from sqlalchemy import create_engine\n",
    "engine = create_engine('sqlite://', echo = True)"
   ]
  },
  {
   "cell_type": "code",
   "execution_count": 4,
   "metadata": {},
   "outputs": [],
   "source": [
    "from sqlalchemy.orm import sessionmaker\n",
    "_Session = sessionmaker(bind=engine)\n",
    "session = _Session()"
   ]
  },
  {
   "cell_type": "code",
   "execution_count": 5,
   "metadata": {},
   "outputs": [
    {
     "name": "stdout",
     "output_type": "stream",
     "text": [
      "2021-09-05 14:14:03,957 INFO sqlalchemy.engine.Engine BEGIN (implicit)\n",
      "2021-09-05 14:14:03,958 INFO sqlalchemy.engine.Engine PRAGMA main.table_info(\"models\")\n",
      "2021-09-05 14:14:03,958 INFO sqlalchemy.engine.Engine [raw sql] ()\n",
      "2021-09-05 14:14:03,959 INFO sqlalchemy.engine.Engine PRAGMA temp.table_info(\"models\")\n",
      "2021-09-05 14:14:03,960 INFO sqlalchemy.engine.Engine [raw sql] ()\n",
      "2021-09-05 14:14:03,961 INFO sqlalchemy.engine.Engine PRAGMA main.table_info(\"wbs\")\n",
      "2021-09-05 14:14:03,962 INFO sqlalchemy.engine.Engine [raw sql] ()\n",
      "2021-09-05 14:14:03,963 INFO sqlalchemy.engine.Engine PRAGMA temp.table_info(\"wbs\")\n",
      "2021-09-05 14:14:03,963 INFO sqlalchemy.engine.Engine [raw sql] ()\n",
      "2021-09-05 14:14:03,964 INFO sqlalchemy.engine.Engine PRAGMA main.table_info(\"activities\")\n",
      "2021-09-05 14:14:03,965 INFO sqlalchemy.engine.Engine [raw sql] ()\n",
      "2021-09-05 14:14:03,966 INFO sqlalchemy.engine.Engine PRAGMA temp.table_info(\"activities\")\n",
      "2021-09-05 14:14:03,967 INFO sqlalchemy.engine.Engine [raw sql] ()\n",
      "2021-09-05 14:14:03,968 INFO sqlalchemy.engine.Engine PRAGMA main.table_info(\"links\")\n",
      "2021-09-05 14:14:03,968 INFO sqlalchemy.engine.Engine [raw sql] ()\n",
      "2021-09-05 14:14:03,969 INFO sqlalchemy.engine.Engine PRAGMA temp.table_info(\"links\")\n",
      "2021-09-05 14:14:03,970 INFO sqlalchemy.engine.Engine [raw sql] ()\n",
      "2021-09-05 14:14:03,970 INFO sqlalchemy.engine.Engine PRAGMA main.table_info(\"events\")\n",
      "2021-09-05 14:14:03,971 INFO sqlalchemy.engine.Engine [raw sql] ()\n",
      "2021-09-05 14:14:03,972 INFO sqlalchemy.engine.Engine PRAGMA temp.table_info(\"events\")\n",
      "2021-09-05 14:14:03,972 INFO sqlalchemy.engine.Engine [raw sql] ()\n",
      "2021-09-05 14:14:03,974 INFO sqlalchemy.engine.Engine PRAGMA main.table_info(\"nodes\")\n",
      "2021-09-05 14:14:03,975 INFO sqlalchemy.engine.Engine [raw sql] ()\n",
      "2021-09-05 14:14:03,976 INFO sqlalchemy.engine.Engine PRAGMA temp.table_info(\"nodes\")\n",
      "2021-09-05 14:14:03,977 INFO sqlalchemy.engine.Engine [raw sql] ()\n",
      "2021-09-05 14:14:03,978 INFO sqlalchemy.engine.Engine PRAGMA main.table_info(\"edges\")\n",
      "2021-09-05 14:14:03,979 INFO sqlalchemy.engine.Engine [raw sql] ()\n",
      "2021-09-05 14:14:03,980 INFO sqlalchemy.engine.Engine PRAGMA temp.table_info(\"edges\")\n",
      "2021-09-05 14:14:03,980 INFO sqlalchemy.engine.Engine [raw sql] ()\n",
      "2021-09-05 14:14:03,982 INFO sqlalchemy.engine.Engine \n",
      "CREATE TABLE models (\n",
      "\tid INTEGER NOT NULL, \n",
      "\tname VARCHAR NOT NULL, \n",
      "\tdescription VARCHAR, \n",
      "\tPRIMARY KEY (id)\n",
      ")\n",
      "\n",
      "\n",
      "2021-09-05 14:14:03,982 INFO sqlalchemy.engine.Engine [no key 0.00064s] ()\n",
      "2021-09-05 14:14:03,984 INFO sqlalchemy.engine.Engine \n",
      "CREATE TABLE wbs (\n",
      "\tid INTEGER NOT NULL, \n",
      "\tmodel_id INTEGER, \n",
      "\tparent_id INTEGER, \n",
      "\tpath VARCHAR NOT NULL, \n",
      "\tname VARCHAR NOT NULL, \n",
      "\tPRIMARY KEY (id), \n",
      "\tFOREIGN KEY(model_id) REFERENCES models (id), \n",
      "\tFOREIGN KEY(parent_id) REFERENCES wbs (id)\n",
      ")\n",
      "\n",
      "\n",
      "2021-09-05 14:14:03,985 INFO sqlalchemy.engine.Engine [no key 0.00070s] ()\n",
      "2021-09-05 14:14:03,986 INFO sqlalchemy.engine.Engine CREATE INDEX ix_wbs_path ON wbs (path)\n",
      "2021-09-05 14:14:03,987 INFO sqlalchemy.engine.Engine [no key 0.00087s] ()\n",
      "2021-09-05 14:14:03,989 INFO sqlalchemy.engine.Engine \n",
      "CREATE TABLE events (\n",
      "\tid INTEGER NOT NULL, \n",
      "\tmodel_id INTEGER NOT NULL, \n",
      "\tearly FLOAT, \n",
      "\tlate FLOAT, \n",
      "\treserve FLOAT, \n",
      "\tPRIMARY KEY (id, model_id), \n",
      "\tFOREIGN KEY(model_id) REFERENCES models (id)\n",
      ")\n",
      "\n",
      "\n",
      "2021-09-05 14:14:03,989 INFO sqlalchemy.engine.Engine [no key 0.00066s] ()\n",
      "2021-09-05 14:14:03,991 INFO sqlalchemy.engine.Engine \n",
      "CREATE TABLE activities (\n",
      "\tmodel_id INTEGER NOT NULL, \n",
      "\tid INTEGER NOT NULL, \n",
      "\twbs_id INTEGER, \n",
      "\tsrc_id INTEGER, \n",
      "\tdst_id INTEGER, \n",
      "\tduration FLOAT, \n",
      "\tearly_start FLOAT, \n",
      "\tlate_start FLOAT, \n",
      "\tearly_end FLOAT, \n",
      "\tlate_end FLOAT, \n",
      "\treserve FLOAT, \n",
      "\tPRIMARY KEY (model_id, id), \n",
      "\tFOREIGN KEY(model_id) REFERENCES models (id), \n",
      "\tFOREIGN KEY(wbs_id) REFERENCES wbs (id), \n",
      "\tFOREIGN KEY(src_id) REFERENCES events (id), \n",
      "\tFOREIGN KEY(dst_id) REFERENCES events (id)\n",
      ")\n",
      "\n",
      "\n",
      "2021-09-05 14:14:03,993 INFO sqlalchemy.engine.Engine [no key 0.00216s] ()\n",
      "2021-09-05 14:14:03,995 INFO sqlalchemy.engine.Engine \n",
      "CREATE TABLE nodes (\n",
      "\tmodel_id INTEGER NOT NULL, \n",
      "\tid INTEGER NOT NULL, \n",
      "\tevent_id INTEGER, \n",
      "\tx FLOAT, \n",
      "\ty FLOAT, \n",
      "\tPRIMARY KEY (model_id, id), \n",
      "\tFOREIGN KEY(model_id) REFERENCES models (id), \n",
      "\tFOREIGN KEY(event_id) REFERENCES events (id)\n",
      ")\n",
      "\n",
      "\n",
      "2021-09-05 14:14:03,995 INFO sqlalchemy.engine.Engine [no key 0.00060s] ()\n",
      "2021-09-05 14:14:03,996 INFO sqlalchemy.engine.Engine \n",
      "CREATE TABLE links (\n",
      "\tmodel_id INTEGER NOT NULL, \n",
      "\tsrc_id INTEGER NOT NULL, \n",
      "\tdst_id INTEGER NOT NULL, \n",
      "\tPRIMARY KEY (model_id, src_id, dst_id), \n",
      "\tFOREIGN KEY(model_id) REFERENCES models (id), \n",
      "\tFOREIGN KEY(src_id) REFERENCES activities (id), \n",
      "\tFOREIGN KEY(dst_id) REFERENCES activities (id)\n",
      ")\n",
      "\n",
      "\n",
      "2021-09-05 14:14:03,997 INFO sqlalchemy.engine.Engine [no key 0.00047s] ()\n",
      "2021-09-05 14:14:03,998 INFO sqlalchemy.engine.Engine \n",
      "CREATE TABLE edges (\n",
      "\tmodel_id INTEGER NOT NULL, \n",
      "\tsrc_id INTEGER NOT NULL, \n",
      "\tdst_id INTEGER NOT NULL, \n",
      "\tPRIMARY KEY (model_id, src_id, dst_id), \n",
      "\tFOREIGN KEY(model_id) REFERENCES models (id), \n",
      "\tFOREIGN KEY(src_id) REFERENCES nodes (id), \n",
      "\tFOREIGN KEY(dst_id) REFERENCES nodes (id)\n",
      ")\n",
      "\n",
      "\n",
      "2021-09-05 14:14:03,998 INFO sqlalchemy.engine.Engine [no key 0.00047s] ()\n",
      "2021-09-05 14:14:03,999 INFO sqlalchemy.engine.Engine COMMIT\n"
     ]
    }
   ],
   "source": [
    "Base.metadata.create_all(engine)"
   ]
  },
  {
   "cell_type": "code",
   "execution_count": 6,
   "metadata": {},
   "outputs": [
    {
     "name": "stdout",
     "output_type": "stream",
     "text": [
      "2021-09-05 14:14:04,090 INFO sqlalchemy.engine.Engine BEGIN (implicit)\n",
      "2021-09-05 14:14:04,092 INFO sqlalchemy.engine.Engine INSERT INTO models (name, description) VALUES (?, ?)\n",
      "2021-09-05 14:14:04,093 INFO sqlalchemy.engine.Engine [generated in 0.00084s] ('First model!', '')\n"
     ]
    }
   ],
   "source": [
    "nm = NetworkModel(name='First model!', session=session)"
   ]
  },
  {
   "cell_type": "code",
   "execution_count": 7,
   "metadata": {},
   "outputs": [
    {
     "name": "stdout",
     "output_type": "stream",
     "text": [
      "1 : First model! : \n"
     ]
    }
   ],
   "source": [
    "nm.describe()"
   ]
  },
  {
   "cell_type": "code",
   "execution_count": 8,
   "metadata": {},
   "outputs": [
    {
     "name": "stdout",
     "output_type": "stream",
     "text": [
      "2021-09-05 14:14:04,279 INFO sqlalchemy.engine.Engine INSERT INTO wbs (model_id, parent_id, path, name) VALUES (?, ?, ?, ?)\n",
      "2021-09-05 14:14:04,279 INFO sqlalchemy.engine.Engine [generated in 0.00087s] (1, None, '', 'Test 1')\n",
      "2021-09-05 14:14:04,288 INFO sqlalchemy.engine.Engine SELECT activities.model_id AS activities_model_id, activities.id AS activities_id, activities.wbs_id AS activities_wbs_id, activities.src_id AS activities_src_id, activities.dst_id AS activities_dst_id, activities.duration AS activities_duration, activities.early_start AS activities_early_start, activities.late_start AS activities_late_start, activities.early_end AS activities_early_end, activities.late_end AS activities_late_end, activities.reserve AS activities_reserve \n",
      "FROM activities \n",
      "WHERE ? = activities.wbs_id\n",
      "2021-09-05 14:14:04,288 INFO sqlalchemy.engine.Engine [generated in 0.00062s] (1,)\n",
      "2021-09-05 14:14:04,291 INFO sqlalchemy.engine.Engine UPDATE wbs SET path=? WHERE wbs.id = ?\n",
      "2021-09-05 14:14:04,292 INFO sqlalchemy.engine.Engine [generated in 0.00075s] ('1', 1)\n",
      "2021-09-05 14:14:04,294 INFO sqlalchemy.engine.Engine INSERT INTO activities (model_id, id, wbs_id, src_id, dst_id, duration, early_start, late_start, early_end, late_end, reserve) VALUES (?, ?, ?, ?, ?, ?, ?, ?, ?, ?, ?)\n",
      "2021-09-05 14:14:04,295 INFO sqlalchemy.engine.Engine [generated in 0.00074s] (1, 1, 1, None, None, 0.0, 0.0, 0.0, 0.0, 0.0, 0.0)\n",
      "2021-09-05 14:14:04,298 INFO sqlalchemy.engine.Engine SELECT events.id AS events_id, events.model_id AS events_model_id, events.early AS events_early, events.late AS events_late, events.reserve AS events_reserve \n",
      "FROM events \n",
      "WHERE ? = events.model_id\n",
      "2021-09-05 14:14:04,298 INFO sqlalchemy.engine.Engine [generated in 0.00067s] (1,)\n"
     ]
    }
   ],
   "source": [
    "w1 = WBSRecord('Test 1', model=nm)\n",
    "a1 = Activity(w1)"
   ]
  },
  {
   "cell_type": "code",
   "execution_count": 9,
   "metadata": {},
   "outputs": [
    {
     "name": "stdout",
     "output_type": "stream",
     "text": [
      "2021-09-05 14:14:04,412 INFO sqlalchemy.engine.Engine INSERT INTO wbs (model_id, parent_id, path, name) VALUES (?, ?, ?, ?)\n",
      "2021-09-05 14:14:04,413 INFO sqlalchemy.engine.Engine [cached since 0.1342s ago] (1, None, '', 'Test 2')\n",
      "2021-09-05 14:14:04,415 INFO sqlalchemy.engine.Engine UPDATE wbs SET path=? WHERE wbs.id = ?\n",
      "2021-09-05 14:14:04,415 INFO sqlalchemy.engine.Engine [cached since 0.1246s ago] ('2', 2)\n",
      "2021-09-05 14:14:04,416 INFO sqlalchemy.engine.Engine INSERT INTO wbs (model_id, parent_id, path, name) VALUES (?, ?, ?, ?)\n",
      "2021-09-05 14:14:04,417 INFO sqlalchemy.engine.Engine [cached since 0.1386s ago] (1, 1, '', 'Test 3')\n",
      "2021-09-05 14:14:04,419 INFO sqlalchemy.engine.Engine SELECT activities.model_id AS activities_model_id, activities.id AS activities_id, activities.wbs_id AS activities_wbs_id, activities.src_id AS activities_src_id, activities.dst_id AS activities_dst_id, activities.duration AS activities_duration, activities.early_start AS activities_early_start, activities.late_start AS activities_late_start, activities.early_end AS activities_early_end, activities.late_end AS activities_late_end, activities.reserve AS activities_reserve \n",
      "FROM activities \n",
      "WHERE ? = activities.wbs_id\n",
      "2021-09-05 14:14:04,420 INFO sqlalchemy.engine.Engine [cached since 0.1323s ago] (3,)\n",
      "2021-09-05 14:14:04,421 INFO sqlalchemy.engine.Engine UPDATE wbs SET path=? WHERE wbs.id = ?\n",
      "2021-09-05 14:14:04,422 INFO sqlalchemy.engine.Engine [cached since 0.1312s ago] ('1.3', 3)\n",
      "2021-09-05 14:14:04,423 INFO sqlalchemy.engine.Engine INSERT INTO activities (model_id, id, wbs_id, src_id, dst_id, duration, early_start, late_start, early_end, late_end, reserve) VALUES (?, ?, ?, ?, ?, ?, ?, ?, ?, ?, ?)\n",
      "2021-09-05 14:14:04,424 INFO sqlalchemy.engine.Engine [cached since 0.1294s ago] (1, 3, 3, None, None, 0.0, 0.0, 0.0, 0.0, 0.0, 0.0)\n",
      "2021-09-05 14:14:04,427 INFO sqlalchemy.engine.Engine INSERT INTO links (model_id, src_id, dst_id) VALUES (?, ?, ?)\n",
      "2021-09-05 14:14:04,428 INFO sqlalchemy.engine.Engine [generated in 0.00109s] (1, 1, 3)\n",
      "2021-09-05 14:14:04,431 INFO sqlalchemy.engine.Engine INSERT INTO events (id, model_id, early, late, reserve) VALUES (?, ?, ?, ?, ?)\n",
      "2021-09-05 14:14:04,432 INFO sqlalchemy.engine.Engine [generated in 0.00098s] ((1, 1, 0.0, 0.0, 0.0), (2, 1, 0.0, 0.0, 0.0), (3, 1, 0.0, 0.0, 0.0))\n",
      "2021-09-05 14:14:04,436 INFO sqlalchemy.engine.Engine SELECT activities.model_id AS activities_model_id, activities.id AS activities_id, activities.wbs_id AS activities_wbs_id, activities.src_id AS activities_src_id, activities.dst_id AS activities_dst_id, activities.duration AS activities_duration, activities.early_start AS activities_early_start, activities.late_start AS activities_late_start, activities.early_end AS activities_early_end, activities.late_end AS activities_late_end, activities.reserve AS activities_reserve \n",
      "FROM activities\n",
      "2021-09-05 14:14:04,437 INFO sqlalchemy.engine.Engine [generated in 0.00073s] ()\n",
      "[Activity(model_id=1 id=1, wbs.path='1', wbs.name='Test 1', src_id=None, dst_id=None), Activity(model_id=1 id=3, wbs.path='1.3', wbs.name='Test 3', src_id=None, dst_id=None)]\n"
     ]
    }
   ],
   "source": [
    "w2 = WBSRecord('Test 2', model=nm)\n",
    "w3 = WBSRecord('Test 3', parent=w1)\n",
    "a3 = Activity(w3)\n",
    "\n",
    "l1 = Link(src=a1, dst=a3)\n",
    "\n",
    "ev1 = Event(model=nm, id=1)\n",
    "ev2 = Event(model=nm, id=2)\n",
    "ev3 = Event(model=nm, id=3)\n",
    "print(session.query(Activity).all())"
   ]
  },
  {
   "cell_type": "code",
   "execution_count": 10,
   "metadata": {},
   "outputs": [
    {
     "name": "stdout",
     "output_type": "stream",
     "text": [
      "2021-09-05 14:14:04,501 INFO sqlalchemy.engine.Engine UPDATE activities SET src_id=?, dst_id=? WHERE activities.model_id = ? AND activities.id = ?\n",
      "2021-09-05 14:14:04,502 INFO sqlalchemy.engine.Engine [generated in 0.00075s] ((1, 2, 1, 1), (2, 3, 1, 3))\n",
      "2021-09-05 14:14:04,503 INFO sqlalchemy.engine.Engine SELECT activities.model_id AS activities_model_id, activities.id AS activities_id, activities.wbs_id AS activities_wbs_id, activities.src_id AS activities_src_id, activities.dst_id AS activities_dst_id, activities.duration AS activities_duration, activities.early_start AS activities_early_start, activities.late_start AS activities_late_start, activities.early_end AS activities_early_end, activities.late_end AS activities_late_end, activities.reserve AS activities_reserve \n",
      "FROM activities\n",
      "2021-09-05 14:14:04,503 INFO sqlalchemy.engine.Engine [cached since 0.06741s ago] ()\n",
      "[Activity(model_id=1 id=1, wbs.path='1', wbs.name='Test 1', src_id=1, dst_id=2), Activity(model_id=1 id=3, wbs.path='1.3', wbs.name='Test 3', src_id=2, dst_id=3)]\n"
     ]
    }
   ],
   "source": [
    "a1.src = ev1\n",
    "a1.dst = ev2\n",
    "\n",
    "a3.src = ev2\n",
    "a3.dst = ev3\n",
    "print(session.query(Activity).all())"
   ]
  },
  {
   "cell_type": "code",
   "execution_count": 11,
   "metadata": {},
   "outputs": [
    {
     "name": "stdout",
     "output_type": "stream",
     "text": [
      "2021-09-05 14:14:04,622 INFO sqlalchemy.engine.Engine INSERT INTO nodes (model_id, id, event_id, x, y) VALUES (?, ?, ?, ?, ?)\n",
      "2021-09-05 14:14:04,623 INFO sqlalchemy.engine.Engine [generated in 0.00073s] ((1, 1, 1, 0.0, 0.0), (1, 2, 2, 0.0, 0.0), (1, 3, 3, 0.0, 0.0), (1, 4, None, 0.0, 0.0))\n",
      "2021-09-05 14:14:04,626 INFO sqlalchemy.engine.Engine SELECT nodes.model_id AS nodes_model_id, nodes.id AS nodes_id, nodes.event_id AS nodes_event_id, nodes.x AS nodes_x, nodes.y AS nodes_y \n",
      "FROM nodes \n",
      "WHERE ? = nodes.model_id\n",
      "2021-09-05 14:14:04,626 INFO sqlalchemy.engine.Engine [generated in 0.00066s] (1,)\n",
      "[Node(model_id=1, id=1, event_id=1), Node(model_id=1, id=2, event_id=2), Node(model_id=1, id=3, event_id=3), Node(model_id=1, id=4, event_id=None)]\n"
     ]
    }
   ],
   "source": [
    "n1 = Node(1, event=ev1)\n",
    "n2 = Node(2, event=ev2)\n",
    "n3 = Node(3, event=ev3)\n",
    "n4 = Node(4, model=nm)\n",
    "print(nm.nodes)"
   ]
  },
  {
   "cell_type": "code",
   "execution_count": 12,
   "metadata": {},
   "outputs": [
    {
     "name": "stdout",
     "output_type": "stream",
     "text": [
      "2021-09-05 14:14:04,744 INFO sqlalchemy.engine.Engine INSERT INTO edges (model_id, src_id, dst_id) VALUES (?, ?, ?)\n",
      "2021-09-05 14:14:04,745 INFO sqlalchemy.engine.Engine [generated in 0.00090s] ((1, 1, 2), (1, 2, 4), (1, 4, 3))\n",
      "2021-09-05 14:14:04,748 INFO sqlalchemy.engine.Engine SELECT edges.model_id AS edges_model_id, edges.src_id AS edges_src_id, edges.dst_id AS edges_dst_id \n",
      "FROM edges \n",
      "WHERE ? = edges.model_id\n",
      "2021-09-05 14:14:04,748 INFO sqlalchemy.engine.Engine [generated in 0.00084s] (1,)\n",
      "[Edge(model_id=1 src_id=1, dst_id=2), Edge(model_id=1 src_id=2, dst_id=4), Edge(model_id=1 src_id=4, dst_id=3)]\n"
     ]
    }
   ],
   "source": [
    "e1 = Edge(src=n1,dst=n2)\n",
    "e2 = Edge(src=n2,dst=n4)\n",
    "e3 = Edge(src=n4,dst=n3)\n",
    "print(nm.edges)"
   ]
  },
  {
   "cell_type": "code",
   "execution_count": 13,
   "metadata": {},
   "outputs": [
    {
     "name": "stdout",
     "output_type": "stream",
     "text": [
      "2021-09-05 14:14:04,855 INFO sqlalchemy.engine.Engine SELECT wbs.id AS wbs_id, wbs.model_id AS wbs_model_id, wbs.parent_id AS wbs_parent_id, wbs.path AS wbs_path, wbs.name AS wbs_name \n",
      "FROM wbs \n",
      "WHERE wbs.model_id = ? AND wbs.parent_id IS NULL\n",
      "2021-09-05 14:14:04,856 INFO sqlalchemy.engine.Engine [generated in 0.00059s] (1,)\n",
      "[WBSRecord(model_id=1 id=1, path='1', name='Test 1'), WBSRecord(model_id=1 id=2, path='2', name='Test 2')]\n"
     ]
    }
   ],
   "source": [
    "print(nm.wbs_root)"
   ]
  },
  {
   "cell_type": "code",
   "execution_count": 14,
   "metadata": {},
   "outputs": [
    {
     "name": "stdout",
     "output_type": "stream",
     "text": [
      "2021-09-05 14:14:04,943 INFO sqlalchemy.engine.Engine SELECT wbs.id AS wbs_id, wbs.model_id AS wbs_model_id, wbs.parent_id AS wbs_parent_id, wbs.path AS wbs_path, wbs.name AS wbs_name \n",
      "FROM wbs \n",
      "WHERE ? = wbs.model_id\n",
      "2021-09-05 14:14:04,944 INFO sqlalchemy.engine.Engine [generated in 0.00102s] (1,)\n",
      "[WBSRecord(model_id=1 id=1, path='1', name='Test 1'), WBSRecord(model_id=1 id=2, path='2', name='Test 2'), WBSRecord(model_id=1 id=3, path='1.3', name='Test 3')]\n"
     ]
    }
   ],
   "source": [
    "print(nm.wbs)"
   ]
  },
  {
   "cell_type": "code",
   "execution_count": 15,
   "metadata": {},
   "outputs": [
    {
     "name": "stdout",
     "output_type": "stream",
     "text": [
      "2021-09-05 14:14:05,372 INFO sqlalchemy.engine.Engine INSERT INTO models (name, description) VALUES (?, ?)\n",
      "2021-09-05 14:14:05,373 INFO sqlalchemy.engine.Engine [cached since 1.281s ago] ('Copy of: First model!', '')\n",
      "2021-09-05 14:14:05,375 INFO sqlalchemy.engine.Engine INSERT INTO wbs (model_id, parent_id, path, name) VALUES (?, ?, ?, ?)\n",
      "2021-09-05 14:14:05,375 INFO sqlalchemy.engine.Engine [cached since 1.097s ago] (2, None, '', 'Test 1')\n",
      "2021-09-05 14:14:05,378 INFO sqlalchemy.engine.Engine SELECT activities.model_id AS activities_model_id, activities.id AS activities_id, activities.wbs_id AS activities_wbs_id, activities.src_id AS activities_src_id, activities.dst_id AS activities_dst_id, activities.duration AS activities_duration, activities.early_start AS activities_early_start, activities.late_start AS activities_late_start, activities.early_end AS activities_early_end, activities.late_end AS activities_late_end, activities.reserve AS activities_reserve \n",
      "FROM activities \n",
      "WHERE ? = activities.wbs_id\n",
      "2021-09-05 14:14:05,379 INFO sqlalchemy.engine.Engine [cached since 1.091s ago] (4,)\n",
      "2021-09-05 14:14:05,380 INFO sqlalchemy.engine.Engine UPDATE wbs SET path=? WHERE wbs.id = ?\n",
      "2021-09-05 14:14:05,382 INFO sqlalchemy.engine.Engine [cached since 1.091s ago] ('4', 4)\n",
      "2021-09-05 14:14:05,383 INFO sqlalchemy.engine.Engine INSERT INTO activities (model_id, id, wbs_id, src_id, dst_id, duration, early_start, late_start, early_end, late_end, reserve) VALUES (?, ?, ?, ?, ?, ?, ?, ?, ?, ?, ?)\n",
      "2021-09-05 14:14:05,383 INFO sqlalchemy.engine.Engine [cached since 1.089s ago] (2, 1, 4, 1, 2, 0.0, 0.0, 0.0, 0.0, 0.0, 0.0)\n",
      "2021-09-05 14:14:05,384 INFO sqlalchemy.engine.Engine SELECT events.id AS events_id, events.model_id AS events_model_id, events.early AS events_early, events.late AS events_late, events.reserve AS events_reserve \n",
      "FROM events \n",
      "WHERE ? = events.model_id\n",
      "2021-09-05 14:14:05,385 INFO sqlalchemy.engine.Engine [cached since 1.087s ago] (2,)\n",
      "2021-09-05 14:14:05,389 INFO sqlalchemy.engine.Engine SELECT wbs.id AS wbs_id, wbs.model_id AS wbs_model_id, wbs.parent_id AS wbs_parent_id, wbs.path AS wbs_path, wbs.name AS wbs_name \n",
      "FROM wbs \n",
      "WHERE ? = wbs.parent_id\n",
      "2021-09-05 14:14:05,391 INFO sqlalchemy.engine.Engine [generated in 0.00192s] (1,)\n",
      "2021-09-05 14:14:05,394 INFO sqlalchemy.engine.Engine INSERT INTO wbs (model_id, parent_id, path, name) VALUES (?, ?, ?, ?)\n",
      "2021-09-05 14:14:05,395 INFO sqlalchemy.engine.Engine [cached since 1.116s ago] (2, 4, '', 'Test 3')\n",
      "2021-09-05 14:14:05,397 INFO sqlalchemy.engine.Engine SELECT activities.model_id AS activities_model_id, activities.id AS activities_id, activities.wbs_id AS activities_wbs_id, activities.src_id AS activities_src_id, activities.dst_id AS activities_dst_id, activities.duration AS activities_duration, activities.early_start AS activities_early_start, activities.late_start AS activities_late_start, activities.early_end AS activities_early_end, activities.late_end AS activities_late_end, activities.reserve AS activities_reserve \n",
      "FROM activities \n",
      "WHERE ? = activities.wbs_id\n",
      "2021-09-05 14:14:05,397 INFO sqlalchemy.engine.Engine [cached since 1.11s ago] (5,)\n",
      "2021-09-05 14:14:05,399 INFO sqlalchemy.engine.Engine UPDATE wbs SET path=? WHERE wbs.id = ?\n",
      "2021-09-05 14:14:05,400 INFO sqlalchemy.engine.Engine [cached since 1.109s ago] ('4.5', 5)\n",
      "2021-09-05 14:14:05,401 INFO sqlalchemy.engine.Engine INSERT INTO activities (model_id, id, wbs_id, src_id, dst_id, duration, early_start, late_start, early_end, late_end, reserve) VALUES (?, ?, ?, ?, ?, ?, ?, ?, ?, ?, ?)\n",
      "2021-09-05 14:14:05,402 INFO sqlalchemy.engine.Engine [cached since 1.107s ago] (2, 3, 5, 2, 3, 0.0, 0.0, 0.0, 0.0, 0.0, 0.0)\n",
      "2021-09-05 14:14:05,404 INFO sqlalchemy.engine.Engine SELECT wbs.id AS wbs_id, wbs.model_id AS wbs_model_id, wbs.parent_id AS wbs_parent_id, wbs.path AS wbs_path, wbs.name AS wbs_name \n",
      "FROM wbs \n",
      "WHERE ? = wbs.parent_id\n",
      "2021-09-05 14:14:05,404 INFO sqlalchemy.engine.Engine [cached since 0.01512s ago] (3,)\n",
      "2021-09-05 14:14:05,406 INFO sqlalchemy.engine.Engine SELECT wbs.id AS wbs_id, wbs.model_id AS wbs_model_id, wbs.parent_id AS wbs_parent_id, wbs.path AS wbs_path, wbs.name AS wbs_name \n",
      "FROM wbs \n",
      "WHERE ? = wbs.parent_id\n",
      "2021-09-05 14:14:05,406 INFO sqlalchemy.engine.Engine [cached since 0.01708s ago] (5,)\n",
      "2021-09-05 14:14:05,408 INFO sqlalchemy.engine.Engine SELECT wbs.id AS wbs_id, wbs.model_id AS wbs_model_id, wbs.parent_id AS wbs_parent_id, wbs.path AS wbs_path, wbs.name AS wbs_name \n",
      "FROM wbs \n",
      "WHERE ? = wbs.parent_id\n",
      "2021-09-05 14:14:05,409 INFO sqlalchemy.engine.Engine [cached since 0.01977s ago] (4,)\n",
      "2021-09-05 14:14:05,411 INFO sqlalchemy.engine.Engine INSERT INTO wbs (model_id, parent_id, path, name) VALUES (?, ?, ?, ?)\n",
      "2021-09-05 14:14:05,414 INFO sqlalchemy.engine.Engine [cached since 1.136s ago] (2, None, '', 'Test 2')\n",
      "2021-09-05 14:14:05,417 INFO sqlalchemy.engine.Engine UPDATE wbs SET path=? WHERE wbs.id = ?\n",
      "2021-09-05 14:14:05,417 INFO sqlalchemy.engine.Engine [cached since 1.127s ago] ('6', 6)\n",
      "2021-09-05 14:14:05,419 INFO sqlalchemy.engine.Engine SELECT activities.model_id AS activities_model_id, activities.id AS activities_id, activities.wbs_id AS activities_wbs_id, activities.src_id AS activities_src_id, activities.dst_id AS activities_dst_id, activities.duration AS activities_duration, activities.early_start AS activities_early_start, activities.late_start AS activities_late_start, activities.early_end AS activities_early_end, activities.late_end AS activities_late_end, activities.reserve AS activities_reserve \n",
      "FROM activities \n",
      "WHERE ? = activities.wbs_id\n",
      "2021-09-05 14:14:05,420 INFO sqlalchemy.engine.Engine [generated in 0.00142s] (2,)\n",
      "2021-09-05 14:14:05,422 INFO sqlalchemy.engine.Engine SELECT wbs.id AS wbs_id, wbs.model_id AS wbs_model_id, wbs.parent_id AS wbs_parent_id, wbs.path AS wbs_path, wbs.name AS wbs_name \n",
      "FROM wbs \n",
      "WHERE ? = wbs.parent_id\n",
      "2021-09-05 14:14:05,422 INFO sqlalchemy.engine.Engine [cached since 0.03331s ago] (2,)\n",
      "2021-09-05 14:14:05,424 INFO sqlalchemy.engine.Engine SELECT wbs.id AS wbs_id, wbs.model_id AS wbs_model_id, wbs.parent_id AS wbs_parent_id, wbs.path AS wbs_path, wbs.name AS wbs_name \n",
      "FROM wbs \n",
      "WHERE ? = wbs.parent_id\n",
      "2021-09-05 14:14:05,425 INFO sqlalchemy.engine.Engine [cached since 0.03571s ago] (6,)\n",
      "2021-09-05 14:14:05,429 INFO sqlalchemy.engine.Engine SELECT links.model_id AS links_model_id, links.src_id AS links_src_id, links.dst_id AS links_dst_id \n",
      "FROM links \n",
      "WHERE ? = links.model_id\n",
      "2021-09-05 14:14:05,429 INFO sqlalchemy.engine.Engine [generated in 0.00074s] (1,)\n",
      "2021-09-05 14:14:05,433 INFO sqlalchemy.engine.Engine INSERT INTO links (model_id, src_id, dst_id) VALUES (?, ?, ?)\n",
      "2021-09-05 14:14:05,433 INFO sqlalchemy.engine.Engine [cached since 1.006s ago] (2, 1, 3)\n",
      "2021-09-05 14:14:05,435 INFO sqlalchemy.engine.Engine SELECT links.model_id AS links_model_id, links.src_id AS links_src_id, links.dst_id AS links_dst_id \n",
      "FROM links \n",
      "WHERE ? = links.model_id\n",
      "2021-09-05 14:14:05,435 INFO sqlalchemy.engine.Engine [cached since 0.006662s ago] (2,)\n",
      "2021-09-05 14:14:05,440 INFO sqlalchemy.engine.Engine INSERT INTO events (id, model_id, early, late, reserve) VALUES (?, ?, ?, ?, ?)\n",
      "2021-09-05 14:14:05,441 INFO sqlalchemy.engine.Engine [cached since 1.009s ago] ((1, 2, 0.0, 0.0, 0.0), (2, 2, 0.0, 0.0, 0.0), (3, 2, 0.0, 0.0, 0.0))\n",
      "2021-09-05 14:14:05,443 INFO sqlalchemy.engine.Engine INSERT INTO nodes (model_id, id, event_id, x, y) VALUES (?, ?, ?, ?, ?)\n",
      "2021-09-05 14:14:05,444 INFO sqlalchemy.engine.Engine [cached since 0.8214s ago] ((2, 1, 1, 0.0, 0.0), (2, 2, 2, 0.0, 0.0), (2, 3, 3, 0.0, 0.0))\n",
      "2021-09-05 14:14:05,446 INFO sqlalchemy.engine.Engine SELECT events.id AS events_id, events.model_id AS events_model_id, events.early AS events_early, events.late AS events_late, events.reserve AS events_reserve \n",
      "FROM events \n",
      "WHERE events.id IS NULL AND events.model_id = ?\n",
      "2021-09-05 14:14:05,446 INFO sqlalchemy.engine.Engine [generated in 0.00071s] (1,)\n",
      "2021-09-05 14:14:05,450 INFO sqlalchemy.engine.Engine INSERT INTO nodes (model_id, id, event_id, x, y) VALUES (?, ?, ?, ?, ?)\n",
      "2021-09-05 14:14:05,450 INFO sqlalchemy.engine.Engine [generated in 0.00081s] (2, 4, None, 0.0, 0.0)\n",
      "2021-09-05 14:14:05,451 INFO sqlalchemy.engine.Engine SELECT nodes.model_id AS nodes_model_id, nodes.id AS nodes_id, nodes.event_id AS nodes_event_id, nodes.x AS nodes_x, nodes.y AS nodes_y \n",
      "FROM nodes \n",
      "WHERE ? = nodes.model_id\n",
      "2021-09-05 14:14:05,452 INFO sqlalchemy.engine.Engine [cached since 0.8266s ago] (2,)\n",
      "2021-09-05 14:14:05,456 INFO sqlalchemy.engine.Engine INSERT INTO edges (model_id, src_id, dst_id) VALUES (?, ?, ?)\n",
      "2021-09-05 14:14:05,456 INFO sqlalchemy.engine.Engine [cached since 0.7119s ago] ((2, 1, 2), (2, 2, 4), (2, 4, 3))\n",
      "2021-09-05 14:14:05,457 INFO sqlalchemy.engine.Engine SELECT edges.model_id AS edges_model_id, edges.src_id AS edges_src_id, edges.dst_id AS edges_dst_id \n",
      "FROM edges \n",
      "WHERE ? = edges.model_id\n",
      "2021-09-05 14:14:05,458 INFO sqlalchemy.engine.Engine [cached since 0.7103s ago] (2,)\n"
     ]
    }
   ],
   "source": [
    "nm2 = nm.copy()"
   ]
  },
  {
   "cell_type": "code",
   "execution_count": 16,
   "metadata": {},
   "outputs": [
    {
     "name": "stdout",
     "output_type": "stream",
     "text": [
      "2021-09-05 14:14:05,504 INFO sqlalchemy.engine.Engine SELECT wbs.id AS wbs_id, wbs.model_id AS wbs_model_id, wbs.parent_id AS wbs_parent_id, wbs.path AS wbs_path, wbs.name AS wbs_name \n",
      "FROM wbs \n",
      "WHERE ? = wbs.model_id\n",
      "2021-09-05 14:14:05,505 INFO sqlalchemy.engine.Engine [cached since 0.5619s ago] (2,)\n",
      "[WBSRecord(model_id=2 id=4, path='4', name='Test 1'), WBSRecord(model_id=2 id=5, path='4.5', name='Test 3'), WBSRecord(model_id=2 id=6, path='6', name='Test 2')]\n"
     ]
    }
   ],
   "source": [
    "print(nm2.wbs)"
   ]
  },
  {
   "cell_type": "code",
   "execution_count": 17,
   "metadata": {},
   "outputs": [
    {
     "name": "stdout",
     "output_type": "stream",
     "text": [
      "2021-09-05 14:14:05,604 INFO sqlalchemy.engine.Engine SELECT wbs.id AS wbs_id, wbs.model_id AS wbs_model_id, wbs.parent_id AS wbs_parent_id, wbs.path AS wbs_path, wbs.name AS wbs_name \n",
      "FROM wbs\n",
      "2021-09-05 14:14:05,605 INFO sqlalchemy.engine.Engine [generated in 0.00059s] ()\n",
      "[WBSRecord(model_id=1 id=1, path='1', name='Test 1'), WBSRecord(model_id=1 id=2, path='2', name='Test 2'), WBSRecord(model_id=1 id=3, path='1.3', name='Test 3'), WBSRecord(model_id=2 id=4, path='4', name='Test 1'), WBSRecord(model_id=2 id=5, path='4.5', name='Test 3'), WBSRecord(model_id=2 id=6, path='6', name='Test 2')]\n"
     ]
    }
   ],
   "source": [
    "from sqlalchemy import select, text\n",
    "print(session.query(WBSRecord).all())"
   ]
  },
  {
   "cell_type": "code",
   "execution_count": 18,
   "metadata": {},
   "outputs": [
    {
     "name": "stdout",
     "output_type": "stream",
     "text": [
      "2021-09-05 14:14:05,703 INFO sqlalchemy.engine.Engine SELECT activities.model_id AS activities_model_id, activities.id AS activities_id, activities.wbs_id AS activities_wbs_id, activities.src_id AS activities_src_id, activities.dst_id AS activities_dst_id, activities.duration AS activities_duration, activities.early_start AS activities_early_start, activities.late_start AS activities_late_start, activities.early_end AS activities_early_end, activities.late_end AS activities_late_end, activities.reserve AS activities_reserve \n",
      "FROM activities\n",
      "2021-09-05 14:14:05,704 INFO sqlalchemy.engine.Engine [cached since 1.268s ago] ()\n",
      "[Activity(model_id=1 id=1, wbs.path='1', wbs.name='Test 1', src_id=1, dst_id=2), Activity(model_id=1 id=3, wbs.path='1.3', wbs.name='Test 3', src_id=2, dst_id=3), Activity(model_id=2 id=1, wbs.path='4', wbs.name='Test 1', src_id=1, dst_id=2), Activity(model_id=2 id=3, wbs.path='4.5', wbs.name='Test 3', src_id=2, dst_id=3)]\n"
     ]
    }
   ],
   "source": [
    "print(session.query(Activity).all())"
   ]
  },
  {
   "cell_type": "code",
   "execution_count": 19,
   "metadata": {},
   "outputs": [
    {
     "name": "stdout",
     "output_type": "stream",
     "text": [
      "2021-09-05 14:14:05,814 INFO sqlalchemy.engine.Engine SELECT links.model_id AS links_model_id, links.src_id AS links_src_id, links.dst_id AS links_dst_id \n",
      "FROM links\n",
      "2021-09-05 14:14:05,814 INFO sqlalchemy.engine.Engine [generated in 0.00059s] ()\n",
      "[Link(model_id=1 src_id=1, dst_id=3), Link(model_id=2 src_id=1, dst_id=3)]\n"
     ]
    }
   ],
   "source": [
    "print(session.query(Link).all())"
   ]
  },
  {
   "cell_type": "code",
   "execution_count": 20,
   "metadata": {},
   "outputs": [
    {
     "name": "stdout",
     "output_type": "stream",
     "text": [
      "2021-09-05 14:14:05,904 INFO sqlalchemy.engine.Engine SELECT events.id AS events_id, events.model_id AS events_model_id, events.early AS events_early, events.late AS events_late, events.reserve AS events_reserve \n",
      "FROM events\n",
      "2021-09-05 14:14:05,905 INFO sqlalchemy.engine.Engine [generated in 0.00064s] ()\n",
      "[Event(model_id=1 id=1), Event(model_id=1 id=2), Event(model_id=1 id=3), Event(model_id=2 id=1), Event(model_id=2 id=2), Event(model_id=2 id=3)]\n"
     ]
    }
   ],
   "source": [
    "print(session.query(Event).all())"
   ]
  },
  {
   "cell_type": "code",
   "execution_count": 21,
   "metadata": {},
   "outputs": [
    {
     "name": "stdout",
     "output_type": "stream",
     "text": [
      "[Node(model_id=2, id=1, event_id=1), Node(model_id=2, id=2, event_id=2), Node(model_id=2, id=3, event_id=3), Node(model_id=2, id=4, event_id=None)]\n"
     ]
    }
   ],
   "source": [
    "print(nm2.nodes)"
   ]
  },
  {
   "cell_type": "code",
   "execution_count": 22,
   "metadata": {},
   "outputs": [
    {
     "name": "stdout",
     "output_type": "stream",
     "text": [
      "[Edge(model_id=2 src_id=1, dst_id=2), Edge(model_id=2 src_id=2, dst_id=4), Edge(model_id=2 src_id=4, dst_id=3)]\n"
     ]
    }
   ],
   "source": [
    "print(nm2.edges)"
   ]
  },
  {
   "cell_type": "code",
   "execution_count": 23,
   "metadata": {},
   "outputs": [],
   "source": [
    "nm3 = session.query(NetworkModel).get(2)"
   ]
  },
  {
   "cell_type": "code",
   "execution_count": 24,
   "metadata": {},
   "outputs": [
    {
     "name": "stdout",
     "output_type": "stream",
     "text": [
      "[Node(model_id=2, id=1, event_id=1), Node(model_id=2, id=2, event_id=2), Node(model_id=2, id=3, event_id=3), Node(model_id=2, id=4, event_id=None)]\n"
     ]
    }
   ],
   "source": [
    "print(nm3.nodes)"
   ]
  },
  {
   "cell_type": "code",
   "execution_count": 25,
   "metadata": {},
   "outputs": [
    {
     "name": "stdout",
     "output_type": "stream",
     "text": [
      "2021-09-05 14:14:06,479 INFO sqlalchemy.engine.Engine SELECT models.id AS models_id, models.name AS models_name, models.description AS models_description \n",
      "FROM models\n",
      "2021-09-05 14:14:06,479 INFO sqlalchemy.engine.Engine [generated in 0.00061s] ()\n",
      "1\n",
      "2\n"
     ]
    }
   ],
   "source": [
    "for m in session.query(NetworkModel).all():\n",
    "    print(m.id)"
   ]
  },
  {
   "cell_type": "code",
   "execution_count": 26,
   "metadata": {},
   "outputs": [
    {
     "name": "stdout",
     "output_type": "stream",
     "text": [
      "<sqlalchemy.orm.session.Session object at 0x7ff8b7f896d8>\n"
     ]
    }
   ],
   "source": [
    "print(inspect(nm3).session)\n",
    "session.flush()"
   ]
  },
  {
   "cell_type": "code",
   "execution_count": 27,
   "metadata": {},
   "outputs": [
    {
     "name": "stdout",
     "output_type": "stream",
     "text": [
      "[WBSRecord(model_id=2 id=4, path='4', name='Test 1'), WBSRecord(model_id=2 id=5, path='4.5', name='Test 3'), WBSRecord(model_id=2 id=6, path='6', name='Test 2')]\n",
      "2021-09-05 14:14:06,701 INFO sqlalchemy.engine.Engine SELECT activities.model_id AS activities_model_id, activities.id AS activities_id, activities.wbs_id AS activities_wbs_id, activities.src_id AS activities_src_id, activities.dst_id AS activities_dst_id, activities.duration AS activities_duration, activities.early_start AS activities_early_start, activities.late_start AS activities_late_start, activities.early_end AS activities_early_end, activities.late_end AS activities_late_end, activities.reserve AS activities_reserve \n",
      "FROM activities \n",
      "WHERE ? = activities.model_id\n",
      "2021-09-05 14:14:06,701 INFO sqlalchemy.engine.Engine [generated in 0.00062s] (2,)\n",
      "[Activity(model_id=2 id=1, wbs.path='4', wbs.name='Test 1', src_id=1, dst_id=2), Activity(model_id=2 id=3, wbs.path='4.5', wbs.name='Test 3', src_id=2, dst_id=3)]\n",
      "[Link(model_id=2 src_id=1, dst_id=3)]\n",
      "[Event(model_id=2 id=1), Event(model_id=2 id=2), Event(model_id=2 id=3)]\n",
      "[Node(model_id=2, id=1, event_id=1), Node(model_id=2, id=2, event_id=2), Node(model_id=2, id=3, event_id=3), Node(model_id=2, id=4, event_id=None)]\n",
      "[Edge(model_id=2 src_id=1, dst_id=2), Edge(model_id=2 src_id=2, dst_id=4), Edge(model_id=2 src_id=4, dst_id=3)]\n"
     ]
    }
   ],
   "source": [
    "print(nm3.wbs)\n",
    "print(nm3.activities)\n",
    "print(nm3.links)\n",
    "print(nm3.events)\n",
    "print(nm3.nodes)\n",
    "print(nm3.edges)"
   ]
  },
  {
   "cell_type": "code",
   "execution_count": 28,
   "metadata": {},
   "outputs": [
    {
     "name": "stdout",
     "output_type": "stream",
     "text": [
      "2021-09-05 14:14:06,834 INFO sqlalchemy.engine.Engine SELECT links.model_id AS links_model_id, links.src_id AS links_src_id, links.dst_id AS links_dst_id \n",
      "FROM links \n",
      "WHERE ? = links.model_id AND ? = links.src_id\n",
      "2021-09-05 14:14:06,835 INFO sqlalchemy.engine.Engine [generated in 0.00079s] (2, 3)\n",
      "2021-09-05 14:14:06,838 INFO sqlalchemy.engine.Engine SELECT links.model_id AS links_model_id, links.src_id AS links_src_id, links.dst_id AS links_dst_id \n",
      "FROM links \n",
      "WHERE ? = links.model_id AND ? = links.dst_id\n",
      "2021-09-05 14:14:06,838 INFO sqlalchemy.engine.Engine [generated in 0.00078s] (2, 3)\n",
      "2021-09-05 14:14:06,840 INFO sqlalchemy.engine.Engine SELECT links.model_id AS links_model_id, links.src_id AS links_src_id, links.dst_id AS links_dst_id \n",
      "FROM links \n",
      "WHERE ? = links.model_id AND ? = links.src_id\n",
      "2021-09-05 14:14:06,841 INFO sqlalchemy.engine.Engine [cached since 0.006583s ago] (2, 1)\n",
      "2021-09-05 14:14:06,842 INFO sqlalchemy.engine.Engine SELECT links.model_id AS links_model_id, links.src_id AS links_src_id, links.dst_id AS links_dst_id \n",
      "FROM links \n",
      "WHERE ? = links.model_id AND ? = links.dst_id\n",
      "2021-09-05 14:14:06,843 INFO sqlalchemy.engine.Engine [cached since 0.005008s ago] (2, 1)\n",
      "2021-09-05 14:14:06,846 INFO sqlalchemy.engine.Engine SELECT edges.model_id AS edges_model_id, edges.src_id AS edges_src_id, edges.dst_id AS edges_dst_id \n",
      "FROM edges \n",
      "WHERE ? = edges.model_id AND ? = edges.src_id\n",
      "2021-09-05 14:14:06,846 INFO sqlalchemy.engine.Engine [generated in 0.00063s] (2, 1)\n",
      "2021-09-05 14:14:06,849 INFO sqlalchemy.engine.Engine SELECT edges.model_id AS edges_model_id, edges.src_id AS edges_src_id, edges.dst_id AS edges_dst_id \n",
      "FROM edges \n",
      "WHERE ? = edges.model_id AND ? = edges.dst_id\n",
      "2021-09-05 14:14:06,850 INFO sqlalchemy.engine.Engine [generated in 0.00066s] (2, 1)\n",
      "2021-09-05 14:14:06,851 INFO sqlalchemy.engine.Engine SELECT edges.model_id AS edges_model_id, edges.src_id AS edges_src_id, edges.dst_id AS edges_dst_id \n",
      "FROM edges \n",
      "WHERE ? = edges.model_id AND ? = edges.src_id\n",
      "2021-09-05 14:14:06,851 INFO sqlalchemy.engine.Engine [cached since 0.005823s ago] (2, 2)\n",
      "2021-09-05 14:14:06,853 INFO sqlalchemy.engine.Engine SELECT edges.model_id AS edges_model_id, edges.src_id AS edges_src_id, edges.dst_id AS edges_dst_id \n",
      "FROM edges \n",
      "WHERE ? = edges.model_id AND ? = edges.dst_id\n",
      "2021-09-05 14:14:06,853 INFO sqlalchemy.engine.Engine [cached since 0.004065s ago] (2, 2)\n",
      "2021-09-05 14:14:06,855 INFO sqlalchemy.engine.Engine SELECT edges.model_id AS edges_model_id, edges.src_id AS edges_src_id, edges.dst_id AS edges_dst_id \n",
      "FROM edges \n",
      "WHERE ? = edges.model_id AND ? = edges.src_id\n",
      "2021-09-05 14:14:06,855 INFO sqlalchemy.engine.Engine [cached since 0.009486s ago] (2, 3)\n",
      "2021-09-05 14:14:06,856 INFO sqlalchemy.engine.Engine SELECT edges.model_id AS edges_model_id, edges.src_id AS edges_src_id, edges.dst_id AS edges_dst_id \n",
      "FROM edges \n",
      "WHERE ? = edges.model_id AND ? = edges.dst_id\n",
      "2021-09-05 14:14:06,857 INFO sqlalchemy.engine.Engine [cached since 0.0079s ago] (2, 3)\n",
      "2021-09-05 14:14:06,858 INFO sqlalchemy.engine.Engine SELECT edges.model_id AS edges_model_id, edges.src_id AS edges_src_id, edges.dst_id AS edges_dst_id \n",
      "FROM edges \n",
      "WHERE ? = edges.model_id AND ? = edges.src_id\n",
      "2021-09-05 14:14:06,859 INFO sqlalchemy.engine.Engine [cached since 0.01335s ago] (2, 4)\n",
      "2021-09-05 14:14:06,861 INFO sqlalchemy.engine.Engine SELECT edges.model_id AS edges_model_id, edges.src_id AS edges_src_id, edges.dst_id AS edges_dst_id \n",
      "FROM edges \n",
      "WHERE ? = edges.model_id AND ? = edges.dst_id\n",
      "2021-09-05 14:14:06,862 INFO sqlalchemy.engine.Engine [cached since 0.01242s ago] (2, 4)\n",
      "2021-09-05 14:14:06,865 INFO sqlalchemy.engine.Engine SELECT activities.model_id AS activities_model_id, activities.id AS activities_id, activities.wbs_id AS activities_wbs_id, activities.src_id AS activities_src_id, activities.dst_id AS activities_dst_id, activities.duration AS activities_duration, activities.early_start AS activities_early_start, activities.late_start AS activities_late_start, activities.early_end AS activities_early_end, activities.late_end AS activities_late_end, activities.reserve AS activities_reserve \n",
      "FROM activities \n",
      "WHERE ? = activities.model_id AND ? = activities.src_id\n",
      "2021-09-05 14:14:06,866 INFO sqlalchemy.engine.Engine [generated in 0.00075s] (2, 2)\n",
      "2021-09-05 14:14:06,868 INFO sqlalchemy.engine.Engine SELECT activities.model_id AS activities_model_id, activities.id AS activities_id, activities.wbs_id AS activities_wbs_id, activities.src_id AS activities_src_id, activities.dst_id AS activities_dst_id, activities.duration AS activities_duration, activities.early_start AS activities_early_start, activities.late_start AS activities_late_start, activities.early_end AS activities_early_end, activities.late_end AS activities_late_end, activities.reserve AS activities_reserve \n",
      "FROM activities \n",
      "WHERE ? = activities.model_id AND ? = activities.src_id\n",
      "2021-09-05 14:14:06,868 INFO sqlalchemy.engine.Engine [cached since 0.003122s ago] (2, 1)\n",
      "2021-09-05 14:14:06,870 INFO sqlalchemy.engine.Engine SELECT activities.model_id AS activities_model_id, activities.id AS activities_id, activities.wbs_id AS activities_wbs_id, activities.src_id AS activities_src_id, activities.dst_id AS activities_dst_id, activities.duration AS activities_duration, activities.early_start AS activities_early_start, activities.late_start AS activities_late_start, activities.early_end AS activities_early_end, activities.late_end AS activities_late_end, activities.reserve AS activities_reserve \n",
      "FROM activities \n",
      "WHERE ? = activities.model_id AND ? = activities.src_id\n",
      "2021-09-05 14:14:06,870 INFO sqlalchemy.engine.Engine [cached since 0.005376s ago] (2, 3)\n",
      "2021-09-05 14:14:06,873 INFO sqlalchemy.engine.Engine SELECT activities.model_id AS activities_model_id, activities.id AS activities_id, activities.wbs_id AS activities_wbs_id, activities.src_id AS activities_src_id, activities.dst_id AS activities_dst_id, activities.duration AS activities_duration, activities.early_start AS activities_early_start, activities.late_start AS activities_late_start, activities.early_end AS activities_early_end, activities.late_end AS activities_late_end, activities.reserve AS activities_reserve \n",
      "FROM activities \n",
      "WHERE ? = activities.model_id AND ? = activities.dst_id\n",
      "2021-09-05 14:14:06,874 INFO sqlalchemy.engine.Engine [generated in 0.00066s] (2, 2)\n",
      "2021-09-05 14:14:06,875 INFO sqlalchemy.engine.Engine SELECT activities.model_id AS activities_model_id, activities.id AS activities_id, activities.wbs_id AS activities_wbs_id, activities.src_id AS activities_src_id, activities.dst_id AS activities_dst_id, activities.duration AS activities_duration, activities.early_start AS activities_early_start, activities.late_start AS activities_late_start, activities.early_end AS activities_early_end, activities.late_end AS activities_late_end, activities.reserve AS activities_reserve \n",
      "FROM activities \n",
      "WHERE ? = activities.model_id AND ? = activities.dst_id\n",
      "2021-09-05 14:14:06,876 INFO sqlalchemy.engine.Engine [cached since 0.002744s ago] (2, 1)\n",
      "2021-09-05 14:14:06,878 INFO sqlalchemy.engine.Engine SELECT activities.model_id AS activities_model_id, activities.id AS activities_id, activities.wbs_id AS activities_wbs_id, activities.src_id AS activities_src_id, activities.dst_id AS activities_dst_id, activities.duration AS activities_duration, activities.early_start AS activities_early_start, activities.late_start AS activities_late_start, activities.early_end AS activities_early_end, activities.late_end AS activities_late_end, activities.reserve AS activities_reserve \n",
      "FROM activities \n",
      "WHERE ? = activities.model_id AND ? = activities.dst_id\n",
      "2021-09-05 14:14:06,878 INFO sqlalchemy.engine.Engine [cached since 0.005251s ago] (2, 3)\n",
      "2021-09-05 14:14:06,883 INFO sqlalchemy.engine.Engine DELETE FROM edges WHERE edges.model_id = ? AND edges.src_id = ? AND edges.dst_id = ?\n",
      "2021-09-05 14:14:06,884 INFO sqlalchemy.engine.Engine [generated in 0.00109s] ((2, 1, 2), (2, 2, 4), (2, 4, 3))\n",
      "2021-09-05 14:14:06,886 INFO sqlalchemy.engine.Engine DELETE FROM links WHERE links.model_id = ? AND links.src_id = ? AND links.dst_id = ?\n",
      "2021-09-05 14:14:06,887 INFO sqlalchemy.engine.Engine [generated in 0.00089s] (2, 1, 3)\n",
      "2021-09-05 14:14:06,889 INFO sqlalchemy.engine.Engine DELETE FROM activities WHERE activities.model_id = ? AND activities.id = ?\n",
      "2021-09-05 14:14:06,889 INFO sqlalchemy.engine.Engine [generated in 0.00069s] ((2, 1), (2, 3))\n",
      "2021-09-05 14:14:06,891 INFO sqlalchemy.engine.Engine DELETE FROM nodes WHERE nodes.model_id = ? AND nodes.id = ?\n",
      "2021-09-05 14:14:06,892 INFO sqlalchemy.engine.Engine [generated in 0.00085s] ((2, 1), (2, 2), (2, 3), (2, 4))\n",
      "2021-09-05 14:14:06,893 INFO sqlalchemy.engine.Engine DELETE FROM events WHERE events.id = ? AND events.model_id = ?\n",
      "2021-09-05 14:14:06,894 INFO sqlalchemy.engine.Engine [generated in 0.00124s] ((1, 2), (2, 2), (3, 2))\n",
      "2021-09-05 14:14:06,896 INFO sqlalchemy.engine.Engine DELETE FROM wbs WHERE wbs.id = ?\n",
      "2021-09-05 14:14:06,898 INFO sqlalchemy.engine.Engine [generated in 0.00185s] (5,)\n",
      "2021-09-05 14:14:06,899 INFO sqlalchemy.engine.Engine DELETE FROM wbs WHERE wbs.id = ?\n",
      "2021-09-05 14:14:06,899 INFO sqlalchemy.engine.Engine [cached since 0.003451s ago] (4,)\n"
     ]
    }
   ],
   "source": [
    "nm3.delete_wbs_record('4')"
   ]
  },
  {
   "cell_type": "code",
   "execution_count": 29,
   "metadata": {},
   "outputs": [
    {
     "name": "stdout",
     "output_type": "stream",
     "text": [
      "2021-09-05 14:14:06,921 INFO sqlalchemy.engine.Engine SELECT models.id AS models_id, models.name AS models_name, models.description AS models_description \n",
      "FROM models \n",
      "WHERE models.id = ?\n",
      "2021-09-05 14:14:06,922 INFO sqlalchemy.engine.Engine [generated in 0.00091s] (2,)\n",
      "2021-09-05 14:14:06,924 INFO sqlalchemy.engine.Engine SELECT wbs.id AS wbs_id, wbs.model_id AS wbs_model_id, wbs.parent_id AS wbs_parent_id, wbs.path AS wbs_path, wbs.name AS wbs_name \n",
      "FROM wbs \n",
      "WHERE ? = wbs.model_id\n",
      "2021-09-05 14:14:06,924 INFO sqlalchemy.engine.Engine [cached since 1.982s ago] (2,)\n",
      "[WBSRecord(model_id=2 id=6, path='6', name='Test 2')]\n",
      "2021-09-05 14:14:06,926 INFO sqlalchemy.engine.Engine SELECT activities.model_id AS activities_model_id, activities.id AS activities_id, activities.wbs_id AS activities_wbs_id, activities.src_id AS activities_src_id, activities.dst_id AS activities_dst_id, activities.duration AS activities_duration, activities.early_start AS activities_early_start, activities.late_start AS activities_late_start, activities.early_end AS activities_early_end, activities.late_end AS activities_late_end, activities.reserve AS activities_reserve \n",
      "FROM activities \n",
      "WHERE ? = activities.model_id\n",
      "2021-09-05 14:14:06,927 INFO sqlalchemy.engine.Engine [cached since 0.2258s ago] (2,)\n",
      "[]\n",
      "2021-09-05 14:14:06,928 INFO sqlalchemy.engine.Engine SELECT links.model_id AS links_model_id, links.src_id AS links_src_id, links.dst_id AS links_dst_id \n",
      "FROM links \n",
      "WHERE ? = links.model_id\n",
      "2021-09-05 14:14:06,928 INFO sqlalchemy.engine.Engine [cached since 1.5s ago] (2,)\n",
      "[]\n",
      "2021-09-05 14:14:06,932 INFO sqlalchemy.engine.Engine SELECT events.id AS events_id, events.model_id AS events_model_id, events.early AS events_early, events.late AS events_late, events.reserve AS events_reserve \n",
      "FROM events \n",
      "WHERE ? = events.model_id\n",
      "2021-09-05 14:14:06,933 INFO sqlalchemy.engine.Engine [cached since 2.635s ago] (2,)\n",
      "[]\n",
      "2021-09-05 14:14:06,935 INFO sqlalchemy.engine.Engine SELECT nodes.model_id AS nodes_model_id, nodes.id AS nodes_id, nodes.event_id AS nodes_event_id, nodes.x AS nodes_x, nodes.y AS nodes_y \n",
      "FROM nodes \n",
      "WHERE ? = nodes.model_id\n",
      "2021-09-05 14:14:06,936 INFO sqlalchemy.engine.Engine [cached since 2.31s ago] (2,)\n",
      "[]\n",
      "2021-09-05 14:14:06,938 INFO sqlalchemy.engine.Engine SELECT edges.model_id AS edges_model_id, edges.src_id AS edges_src_id, edges.dst_id AS edges_dst_id \n",
      "FROM edges \n",
      "WHERE ? = edges.model_id\n",
      "2021-09-05 14:14:06,938 INFO sqlalchemy.engine.Engine [cached since 2.191s ago] (2,)\n",
      "[]\n"
     ]
    }
   ],
   "source": [
    "print(nm3.wbs)\n",
    "print(nm3.activities)\n",
    "print(nm3.links)\n",
    "print(nm3.events)\n",
    "print(nm3.nodes)\n",
    "print(nm3.edges)"
   ]
  },
  {
   "cell_type": "code",
   "execution_count": 30,
   "metadata": {},
   "outputs": [
    {
     "name": "stdout",
     "output_type": "stream",
     "text": [
      "[WBSRecord(model_id=2 id=6, path='6', name='Test 2')]\n",
      "[]\n",
      "[]\n",
      "[]\n",
      "[]\n",
      "[]\n"
     ]
    }
   ],
   "source": [
    "session.flush()\n",
    "print(nm3.wbs)\n",
    "print(nm3.activities)\n",
    "print(nm3.links)\n",
    "print(nm3.events)\n",
    "print(nm3.nodes)\n",
    "print(nm3.edges)"
   ]
  },
  {
   "cell_type": "code",
   "execution_count": 31,
   "metadata": {},
   "outputs": [
    {
     "name": "stdout",
     "output_type": "stream",
     "text": [
      "2021-09-05 14:14:07,129 INFO sqlalchemy.engine.Engine SELECT models.id AS models_id, models.name AS models_name, models.description AS models_description \n",
      "FROM models\n",
      "2021-09-05 14:14:07,130 INFO sqlalchemy.engine.Engine [cached since 0.6512s ago] ()\n",
      "[<__main__.NetworkModel object at 0x7ff8b7f5ee48>, <__main__.NetworkModel object at 0x7ff8b7d499e8>]\n"
     ]
    }
   ],
   "source": [
    "print(session.query(NetworkModel).all())"
   ]
  },
  {
   "cell_type": "code",
   "execution_count": 32,
   "metadata": {},
   "outputs": [
    {
     "name": "stdout",
     "output_type": "stream",
     "text": [
      "2021-09-05 14:14:07,284 INFO sqlalchemy.engine.Engine SELECT activities.model_id AS activities_model_id, activities.id AS activities_id, activities.wbs_id AS activities_wbs_id, activities.src_id AS activities_src_id, activities.dst_id AS activities_dst_id, activities.duration AS activities_duration, activities.early_start AS activities_early_start, activities.late_start AS activities_late_start, activities.early_end AS activities_early_end, activities.late_end AS activities_late_end, activities.reserve AS activities_reserve \n",
      "FROM activities\n",
      "2021-09-05 14:14:07,285 INFO sqlalchemy.engine.Engine [cached since 2.849s ago] ()\n",
      "[Activity(model_id=1 id=1, wbs.path='1', wbs.name='Test 1', src_id=1, dst_id=2), Activity(model_id=1 id=3, wbs.path='1.3', wbs.name='Test 3', src_id=2, dst_id=3)]\n"
     ]
    }
   ],
   "source": [
    "print(session.query(Activity).all())"
   ]
  },
  {
   "cell_type": "code",
   "execution_count": 33,
   "metadata": {},
   "outputs": [
    {
     "name": "stdout",
     "output_type": "stream",
     "text": [
      "2021-09-05 14:14:07,417 INFO sqlalchemy.engine.Engine SELECT activities.id AS activities_id \n",
      "FROM activities \n",
      "WHERE activities.model_id = ?\n",
      "2021-09-05 14:14:07,418 INFO sqlalchemy.engine.Engine [generated in 0.00060s] (1,)\n",
      "2021-09-05 14:14:07,419 INFO sqlalchemy.engine.Engine SELECT links.src_id AS links_src_id, links.dst_id AS links_dst_id \n",
      "FROM links \n",
      "WHERE links.model_id = ?\n",
      "2021-09-05 14:14:07,420 INFO sqlalchemy.engine.Engine [generated in 0.00054s] (1,)\n",
      "[1 3] [1] [3]\n",
      "(0, array([1, 2], dtype=uint16), array([2, 3], dtype=uint16), array([1]), array([3]))\n"
     ]
    }
   ],
   "source": [
    "nm.compute_aoa()"
   ]
  },
  {
   "cell_type": "code",
   "execution_count": 34,
   "metadata": {},
   "outputs": [
    {
     "data": {
      "text/plain": [
       "1"
      ]
     },
     "execution_count": 34,
     "metadata": {},
     "output_type": "execute_result"
    }
   ],
   "source": [
    "nm.id"
   ]
  },
  {
   "cell_type": "code",
   "execution_count": 35,
   "metadata": {},
   "outputs": [
    {
     "name": "stdout",
     "output_type": "stream",
     "text": [
      "2021-09-05 14:14:07,661 INFO sqlalchemy.engine.Engine SELECT activities.id AS activities_id \n",
      "FROM activities \n",
      "WHERE activities.model_id = ?\n",
      "2021-09-05 14:14:07,662 INFO sqlalchemy.engine.Engine [cached since 0.2448s ago] (1,)\n",
      "[1 3]\n"
     ]
    }
   ],
   "source": [
    "print(np.array(tuple(zip(*session.query(Activity.id).filter(Activity.model_id == nm.id).all()))[0]))"
   ]
  },
  {
   "cell_type": "code",
   "execution_count": 36,
   "metadata": {},
   "outputs": [
    {
     "name": "stdout",
     "output_type": "stream",
     "text": [
      "[(1,), (3,)]\n"
     ]
    }
   ],
   "source": [
    "print(list(zip(*((l.src_id, l.dst_id) for l in nm.links))))"
   ]
  },
  {
   "cell_type": "code",
   "execution_count": 37,
   "metadata": {},
   "outputs": [
    {
     "name": "stdout",
     "output_type": "stream",
     "text": [
      "2021-09-05 14:14:07,916 INFO sqlalchemy.engine.Engine SELECT activities.src_id AS activities_src_id, activities.dst_id AS activities_dst_id \n",
      "FROM activities \n",
      "WHERE activities.model_id = ?\n",
      "2021-09-05 14:14:07,916 INFO sqlalchemy.engine.Engine [generated in 0.00060s] (1,)\n",
      "((1, 2), (2, 3))\n"
     ]
    }
   ],
   "source": [
    "print(tuple(zip(*session.query(Activity.src_id, Activity.dst_id).filter(Activity.model_id == nm.id).all())))"
   ]
  },
  {
   "cell_type": "code",
   "execution_count": null,
   "metadata": {},
   "outputs": [],
   "source": []
  }
 ],
 "metadata": {
  "kernelspec": {
   "display_name": "Python 3",
   "language": "python",
   "name": "python3"
  },
  "language_info": {
   "codemirror_mode": {
    "name": "ipython",
    "version": 3
   },
   "file_extension": ".py",
   "mimetype": "text/x-python",
   "name": "python",
   "nbconvert_exporter": "python",
   "pygments_lexer": "ipython3",
   "version": "3.6.13"
  }
 },
 "nbformat": 4,
 "nbformat_minor": 4
}
