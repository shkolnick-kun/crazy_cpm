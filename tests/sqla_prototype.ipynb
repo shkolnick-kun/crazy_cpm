{
 "cells": [
  {
   "cell_type": "code",
   "execution_count": 1,
   "metadata": {},
   "outputs": [],
   "source": [
    "from sqlalchemy import create_engine, inspect, ForeignKey, Column, Integer, Float, String, and_, null\n",
    "\n",
    "from sqlalchemy.orm import relationship, remote, backref\n",
    "from sqlalchemy.orm.collections import attribute_mapped_collection\n",
    "\n",
    "from sqlalchemy.ext.declarative import declarative_base\n",
    "Base = declarative_base()"
   ]
  },
  {
   "cell_type": "code",
   "execution_count": 2,
   "metadata": {},
   "outputs": [],
   "source": [
    "class NetworkModel(Base):\n",
    "    __tablename__ = 'models'\n",
    "\n",
    "    id          = Column(Integer, primary_key = True, autoincrement=True)\n",
    "    name        = Column(String, nullable=False)\n",
    "    description = Column(String)\n",
    "    \n",
    "    wbs        = relationship('WBSRecord', backref='model', cascade = 'all, delete-orphan')\n",
    "    wbs_root   = relationship('WBSRecord', viewonly=True,\n",
    "                              primaryjoin='and_(WBSRecord.model_id == NetworkModel.id, WBSRecord.parent_id == null())')\n",
    "    \n",
    "    actitivies = relationship('Activity' , backref='model', cascade = 'all, delete-orphan')\n",
    "    links      = relationship('Link'     , backref='model', cascade = 'all, delete-orphan')\n",
    "    events     = relationship('Event'    , backref='model', cascade = 'all, delete-orphan')\n",
    "    \n",
    "    #----------------------------------------------------------------------------------------------\n",
    "    def __init__(self, session, name, description=''):\n",
    "        self.name        = name\n",
    "        self.description = description\n",
    "\n",
    "        session.add(self)\n",
    "        session.flush() #We've got an id now\n",
    "\n",
    "    #----------------------------------------------------------------------------------------------\n",
    "    def describe(self):\n",
    "        print(self.id, ':', self.name, ':', self.description)\n",
    "    \n",
    "    #----------------------------------------------------------------------------------------------\n",
    "    def copy(self, name=None):\n",
    "        if not name:\n",
    "            cp = NetworkModel(inspect(self).session, \n",
    "                              description=self.description, \n",
    "                              name='Copy of: ' + self.name)\n",
    "        else:\n",
    "            cp = NetworkModel(inspect(self).session,\n",
    "                              description=self.description, \n",
    "                              name=name)\n",
    "        for w in self.wbs_root:\n",
    "            w.copy(model=cp)\n",
    "        \n",
    "        cp.links  = [l.copy(model=cp) for l in self.links]\n",
    "        cp.events = [e.copy(model=cp) for e in self.events]\n",
    "\n",
    "        inspect(self).session.flush()\n",
    "        return cp\n",
    "    \n",
    "    #----------------------------------------------------------------------------------------------\n",
    "    @property\n",
    "    def _iwbs(self):\n",
    "        return dict([(w.path, i) for i,w in enumerate(self.wbs)])\n",
    "    \n",
    "    def wbs_record(self, path):\n",
    "        return self.wbs[self._iwbs[path]]\n",
    "    \n",
    "    #----------------------------------------------------------------------------------------------\n",
    "    def delete_wbs_record(self, path):\n",
    "        w = self.wbs.pop(self._iwbs[path])\n",
    "        del w\n",
    "        inspect(self).session.flush()\n",
    "\n",
    "###################################################################################################\n",
    "class WBSRecord(Base):\n",
    "    __tablename__ = 'wbs'\n",
    "\n",
    "    id        = Column(Integer, primary_key=True, autoincrement=True)\n",
    "    model_id  = Column(Integer, ForeignKey('models.id'))\n",
    "    parent_id = Column(Integer, ForeignKey('wbs.id'))\n",
    "    \n",
    "    path      = Column(String, nullable=False, index=True)\n",
    "    name      = Column(String, nullable=False)\n",
    "    \n",
    "    children = relationship(\"WBSRecord\",\n",
    "                            remote_side=parent_id,\n",
    "                            back_populates='parent',\n",
    "                            cascade='all'\n",
    "                           )\n",
    "    \n",
    "    parent  = relationship(\"WBSRecord\",\n",
    "                            remote_side=id,\n",
    "                            back_populates='children',\n",
    "                           )\n",
    "    \n",
    "    activity = relationship('Activity', \n",
    "                            backref='wbs', \n",
    "                            cascade = 'all, delete-orphan', \n",
    "                            uselist=False)\n",
    "    \n",
    "    #----------------------------------------------------------------------------------------------\n",
    "    def __init__(self, name, parent=None, model=None):\n",
    "        if parent:\n",
    "            assert isinstance(parent, WBSRecord)\n",
    "            model = parent.model\n",
    "\n",
    "        assert isinstance(model, NetworkModel)\n",
    "\n",
    "        self.name   = name\n",
    "        self.parent = parent\n",
    "        self.model  = model\n",
    "        self.path   = ''\n",
    "\n",
    "        #That's shitty approach but I don't know how's better...\n",
    "        inspect(self).session.flush()\n",
    "\n",
    "        if parent:\n",
    "            self.path += parent.path + '.'\n",
    "        self.path += str(self.id)\n",
    "\n",
    "    #----------------------------------------------------------------------------------------------\n",
    "    def _propagate_path(self, new_path_base):\n",
    "        if self.parent:\n",
    "            self.path = self.parent.path + '.' + str(self.id)\n",
    "        else:\n",
    "            self.path = str(self.id)\n",
    "\n",
    "        for c in self.children:\n",
    "            c._propagate_path(self.path)\n",
    "\n",
    "    #----------------------------------------------------------------------------------------------\n",
    "    def move_to(self, new_path_base):\n",
    "        if new_path_base != '':\n",
    "            if new_path_base.startswith(self.path):\n",
    "                raise ValueError('WTF R U doing motherfucker???')\n",
    "            self.parent = self.model.comment(new_path_base)\n",
    "        else:\n",
    "            self.parent = None\n",
    "\n",
    "        self._propagate_path(new_path_base)\n",
    "        inspect(self).session.flush()\n",
    "        \n",
    "    #----------------------------------------------------------------------------------------------\n",
    "    def copy(self, parent=None, model=None):\n",
    "        cp = WBSRecord(self.name, parent=parent, model=model)\n",
    "\n",
    "        if isinstance(self.activity, Activity):\n",
    "            cp.activity = self.activity.copy(cp)\n",
    "\n",
    "        cp.children = [c.copy(parent=cp) for c in self.children]\n",
    "\n",
    "        return cp\n",
    "    \n",
    "    #----------------------------------------------------------------------------------------------\n",
    "    def __repr__(self):\n",
    "        return 'WBSRecord(model_id=%r id=%r, path=%r, name=%r)' % (\n",
    "            self.model_id,\n",
    "            self.id,\n",
    "            self.path,\n",
    "            self.name\n",
    "        )\n",
    "\n",
    "    #----------------------------------------------------------------------------------------------\n",
    "    def dump(self, _level=0):\n",
    "        return (\n",
    "                '   ' * _level\n",
    "                + repr(self)\n",
    "                + \"\\n\"\n",
    "                + \"\".join([c.dump(_level + 1) for c in self.children])\n",
    "        )\n",
    "\n",
    "###################################################################################################\n",
    "class Activity(Base):\n",
    "    __tablename__ = 'activities'\n",
    "\n",
    "    \n",
    "    model_id = Column(Integer, ForeignKey('models.id'), primary_key=True)\n",
    "    id       = Column(Integer,                          primary_key=True)\n",
    "    \n",
    "    wbs_id   = Column(Integer, ForeignKey('wbs.id'))\n",
    "        \n",
    "    in_links  = relationship('Link', \n",
    "                             primaryjoin='and_(Activity.model_id == Link.model_id, Activity.id == Link.src_id)',\n",
    "                             backref='src', cascade = 'all, delete-orphan')\n",
    "    out_links = relationship('Link', \n",
    "                             primaryjoin='and_(Activity.model_id == Link.model_id, Activity.id == Link.dst_id)', \n",
    "                             backref='dst', cascade = 'all, delete-orphan')\n",
    "\n",
    "    #Работы являются связями для событий\n",
    "    src_id    = Column(Integer, ForeignKey('events.id'))\n",
    "    dst_id    = Column(Integer, ForeignKey('events.id'))\n",
    "    \n",
    "    #CPM Data\n",
    "    duration    = Column(Float, default=0.0) # Длительность работы\n",
    "    early_start = Column(Float, default=0.0) # Ранний старт\n",
    "    late_start  = Column(Float, default=0.0) # Поздний старт\n",
    "    early_end   = Column(Float, default=0.0) # Ранний финиш\n",
    "    late_end    = Column(Float, default=0.0) # Поздний финиш\n",
    "    reserve     = Column(Float, default=0.0) # Резерв времени\n",
    "    \n",
    "    def __init__(self, wbs, id=None, src=None, dst=None, src_id=None, dst_id=None,):\n",
    "        assert isinstance(wbs, WBSRecord)\n",
    "\n",
    "        if src:\n",
    "            assert isinstance(src, Event)\n",
    "            src_id = src.id\n",
    "\n",
    "        if dst:\n",
    "            assert isinstance(dst, Event)\n",
    "            dst_id = dst.id\n",
    "\n",
    "        self.model  = wbs.model\n",
    "        #Обеспечили уникальность при генерации и возможность копирования\n",
    "        self.id     = id if id else wbs.id\n",
    "        self.wbs    = wbs\n",
    "        self.src_id = src_id\n",
    "        self.dst_id = dst_id\n",
    "\n",
    "        inspect(self).session.flush()\n",
    "\n",
    "    #----------------------------------------------------------------------------------------------\n",
    "    def __repr__(self):\n",
    "        return 'Activity(model_id=%r id=%r, path=%r, name=%r, src_id=%r, dst_id=%r)' % (\n",
    "            self.model_id,\n",
    "            self.id,\n",
    "            self.wbs.path,\n",
    "            self.wbs.name,\n",
    "            self.src_id,\n",
    "            self.dst_id\n",
    "        )\n",
    "    \n",
    "    #----------------------------------------------------------------------------------------------\n",
    "    def copy(self, wbs):\n",
    "        return Activity(wbs, src=self.src, dst=self.dst, id=self.id)\n",
    "\n",
    "###################################################################################################\n",
    "class Link(Base):\n",
    "    __tablename__ = 'links'\n",
    "\n",
    "    model_id  = Column(Integer, ForeignKey('models.id')    ,  primary_key=True)\n",
    "    src_id    = Column(Integer, ForeignKey('activities.id'),  primary_key=True)\n",
    "    dst_id    = Column(Integer, ForeignKey('activities.id'),  primary_key=True)\n",
    "    \n",
    "    def __init__(self, model=None, src=None, dst=None, src_id=None, dst_id=None):\n",
    "\n",
    "        if model:\n",
    "            assert isinstance(model, NetworkModel)\n",
    "        \n",
    "        if src:\n",
    "            assert isinstance(src, Activity)\n",
    "            src_id = src.id\n",
    "            \n",
    "        if dst:\n",
    "            assert isinstance(dst, Activity)\n",
    "            dst_id = dst.id\n",
    "            \n",
    "        if src and dst:\n",
    "            assert src.model_id == dst.model_id\n",
    "            if model:\n",
    "                assert src.model_id == model.id\n",
    "            else:\n",
    "                model = src.model\n",
    "                \n",
    "        self.model_id = model.id\n",
    "        self.src_id   = src_id\n",
    "        self.dst_id   = dst_id\n",
    "            \n",
    "    #----------------------------------------------------------------------------------------------\n",
    "    def __repr__(self):\n",
    "        return 'Link(model_id=%r src_id=%r, dst_id=%r)' % (\n",
    "            self.model_id,\n",
    "            self.src_id,\n",
    "            self.dst_id\n",
    "        )\n",
    "    #----------------------------------------------------------------------------------------------\n",
    "    def copy(self, model):\n",
    "        return Link(src=self.src, dst=self.dst, model=model)\n",
    "\n",
    "###################################################################################################\n",
    "#TODO: 4. Добавить узлы и ребра для визуализации сетевой модели.\n",
    "class Event(Base):\n",
    "    __tablename__ = 'events'\n",
    "\n",
    "    id       = Column(Integer,                          primary_key=True)\n",
    "    model_id = Column(Integer, ForeignKey('models.id'), primary_key=True)\n",
    "\n",
    "    in_activities  = relationship('Activity', \n",
    "                             primaryjoin='and_(Event.model_id == Activity.model_id, Event.id == Activity.src_id)',\n",
    "                             backref='src')\n",
    "    out_activities = relationship('Activity', \n",
    "                             primaryjoin='and_(Event.model_id == Activity.model_id, Event.id == Activity.dst_id)', \n",
    "                             backref='dst')\n",
    "    \n",
    "    early   = Column(Float, default=0.0)\n",
    "    late    = Column(Float, default=0.0)\n",
    "    reserve = Column(Float, default=0.0)\n",
    "\n",
    "    #----------------------------------------------------------------------------------------------\n",
    "    def __repr__(self):\n",
    "        return 'Event(model_id=%r id=%r)' % (\n",
    "            self.model_id,\n",
    "            self.id\n",
    "        )\n",
    "\n",
    "    #----------------------------------------------------------------------------------------------\n",
    "    def copy(self, model):\n",
    "        return Event(model=model,id=self.id)"
   ]
  },
  {
   "cell_type": "code",
   "execution_count": 3,
   "metadata": {},
   "outputs": [],
   "source": [
    "from sqlalchemy import create_engine\n",
    "engine = create_engine('sqlite://', echo = True)"
   ]
  },
  {
   "cell_type": "code",
   "execution_count": 4,
   "metadata": {},
   "outputs": [],
   "source": [
    "from sqlalchemy.orm import sessionmaker\n",
    "Session = sessionmaker(bind=engine)\n",
    "session = Session()"
   ]
  },
  {
   "cell_type": "code",
   "execution_count": 5,
   "metadata": {},
   "outputs": [
    {
     "name": "stdout",
     "output_type": "stream",
     "text": [
      "2021-08-30 22:05:56,129 INFO sqlalchemy.engine.Engine BEGIN (implicit)\n",
      "2021-08-30 22:05:56,130 INFO sqlalchemy.engine.Engine PRAGMA main.table_info(\"models\")\n",
      "2021-08-30 22:05:56,130 INFO sqlalchemy.engine.Engine [raw sql] ()\n",
      "2021-08-30 22:05:56,131 INFO sqlalchemy.engine.Engine PRAGMA temp.table_info(\"models\")\n",
      "2021-08-30 22:05:56,131 INFO sqlalchemy.engine.Engine [raw sql] ()\n",
      "2021-08-30 22:05:56,132 INFO sqlalchemy.engine.Engine PRAGMA main.table_info(\"wbs\")\n",
      "2021-08-30 22:05:56,132 INFO sqlalchemy.engine.Engine [raw sql] ()\n",
      "2021-08-30 22:05:56,133 INFO sqlalchemy.engine.Engine PRAGMA temp.table_info(\"wbs\")\n",
      "2021-08-30 22:05:56,133 INFO sqlalchemy.engine.Engine [raw sql] ()\n",
      "2021-08-30 22:05:56,134 INFO sqlalchemy.engine.Engine PRAGMA main.table_info(\"activities\")\n",
      "2021-08-30 22:05:56,134 INFO sqlalchemy.engine.Engine [raw sql] ()\n",
      "2021-08-30 22:05:56,134 INFO sqlalchemy.engine.Engine PRAGMA temp.table_info(\"activities\")\n",
      "2021-08-30 22:05:56,135 INFO sqlalchemy.engine.Engine [raw sql] ()\n",
      "2021-08-30 22:05:56,135 INFO sqlalchemy.engine.Engine PRAGMA main.table_info(\"links\")\n",
      "2021-08-30 22:05:56,136 INFO sqlalchemy.engine.Engine [raw sql] ()\n",
      "2021-08-30 22:05:56,136 INFO sqlalchemy.engine.Engine PRAGMA temp.table_info(\"links\")\n",
      "2021-08-30 22:05:56,136 INFO sqlalchemy.engine.Engine [raw sql] ()\n",
      "2021-08-30 22:05:56,137 INFO sqlalchemy.engine.Engine PRAGMA main.table_info(\"events\")\n",
      "2021-08-30 22:05:56,137 INFO sqlalchemy.engine.Engine [raw sql] ()\n",
      "2021-08-30 22:05:56,138 INFO sqlalchemy.engine.Engine PRAGMA temp.table_info(\"events\")\n",
      "2021-08-30 22:05:56,138 INFO sqlalchemy.engine.Engine [raw sql] ()\n",
      "2021-08-30 22:05:56,139 INFO sqlalchemy.engine.Engine \n",
      "CREATE TABLE models (\n",
      "\tid INTEGER NOT NULL, \n",
      "\tname VARCHAR NOT NULL, \n",
      "\tdescription VARCHAR, \n",
      "\tPRIMARY KEY (id)\n",
      ")\n",
      "\n",
      "\n",
      "2021-08-30 22:05:56,140 INFO sqlalchemy.engine.Engine [no key 0.00060s] ()\n",
      "2021-08-30 22:05:56,142 INFO sqlalchemy.engine.Engine \n",
      "CREATE TABLE wbs (\n",
      "\tid INTEGER NOT NULL, \n",
      "\tmodel_id INTEGER, \n",
      "\tparent_id INTEGER, \n",
      "\tpath VARCHAR NOT NULL, \n",
      "\tname VARCHAR NOT NULL, \n",
      "\tPRIMARY KEY (id), \n",
      "\tFOREIGN KEY(model_id) REFERENCES models (id), \n",
      "\tFOREIGN KEY(parent_id) REFERENCES wbs (id)\n",
      ")\n",
      "\n",
      "\n",
      "2021-08-30 22:05:56,143 INFO sqlalchemy.engine.Engine [no key 0.00085s] ()\n",
      "2021-08-30 22:05:56,144 INFO sqlalchemy.engine.Engine CREATE INDEX ix_wbs_path ON wbs (path)\n",
      "2021-08-30 22:05:56,145 INFO sqlalchemy.engine.Engine [no key 0.00068s] ()\n",
      "2021-08-30 22:05:56,146 INFO sqlalchemy.engine.Engine \n",
      "CREATE TABLE events (\n",
      "\tid INTEGER NOT NULL, \n",
      "\tmodel_id INTEGER NOT NULL, \n",
      "\tearly FLOAT, \n",
      "\tlate FLOAT, \n",
      "\treserve FLOAT, \n",
      "\tPRIMARY KEY (id, model_id), \n",
      "\tFOREIGN KEY(model_id) REFERENCES models (id)\n",
      ")\n",
      "\n",
      "\n",
      "2021-08-30 22:05:56,147 INFO sqlalchemy.engine.Engine [no key 0.00066s] ()\n",
      "2021-08-30 22:05:56,149 INFO sqlalchemy.engine.Engine \n",
      "CREATE TABLE activities (\n",
      "\tmodel_id INTEGER NOT NULL, \n",
      "\tid INTEGER NOT NULL, \n",
      "\twbs_id INTEGER, \n",
      "\tsrc_id INTEGER, \n",
      "\tdst_id INTEGER, \n",
      "\tduration FLOAT, \n",
      "\tearly_start FLOAT, \n",
      "\tlate_start FLOAT, \n",
      "\tearly_end FLOAT, \n",
      "\tlate_end FLOAT, \n",
      "\treserve FLOAT, \n",
      "\tPRIMARY KEY (model_id, id), \n",
      "\tFOREIGN KEY(model_id) REFERENCES models (id), \n",
      "\tFOREIGN KEY(wbs_id) REFERENCES wbs (id), \n",
      "\tFOREIGN KEY(src_id) REFERENCES events (id), \n",
      "\tFOREIGN KEY(dst_id) REFERENCES events (id)\n",
      ")\n",
      "\n",
      "\n",
      "2021-08-30 22:05:56,149 INFO sqlalchemy.engine.Engine [no key 0.00062s] ()\n",
      "2021-08-30 22:05:56,151 INFO sqlalchemy.engine.Engine \n",
      "CREATE TABLE links (\n",
      "\tmodel_id INTEGER NOT NULL, \n",
      "\tsrc_id INTEGER NOT NULL, \n",
      "\tdst_id INTEGER NOT NULL, \n",
      "\tPRIMARY KEY (model_id, src_id, dst_id), \n",
      "\tFOREIGN KEY(model_id) REFERENCES models (id), \n",
      "\tFOREIGN KEY(src_id) REFERENCES activities (id), \n",
      "\tFOREIGN KEY(dst_id) REFERENCES activities (id)\n",
      ")\n",
      "\n",
      "\n",
      "2021-08-30 22:05:56,151 INFO sqlalchemy.engine.Engine [no key 0.00061s] ()\n",
      "2021-08-30 22:05:56,152 INFO sqlalchemy.engine.Engine COMMIT\n"
     ]
    }
   ],
   "source": [
    "Base.metadata.create_all(engine)"
   ]
  },
  {
   "cell_type": "code",
   "execution_count": 6,
   "metadata": {},
   "outputs": [
    {
     "name": "stdout",
     "output_type": "stream",
     "text": [
      "2021-08-30 22:05:56,267 INFO sqlalchemy.engine.Engine BEGIN (implicit)\n",
      "2021-08-30 22:05:56,269 INFO sqlalchemy.engine.Engine INSERT INTO models (name, description) VALUES (?, ?)\n",
      "2021-08-30 22:05:56,269 INFO sqlalchemy.engine.Engine [generated in 0.00052s] ('First model!', '')\n"
     ]
    }
   ],
   "source": [
    "nm = NetworkModel(session, name='First model!')"
   ]
  },
  {
   "cell_type": "code",
   "execution_count": 7,
   "metadata": {},
   "outputs": [
    {
     "name": "stdout",
     "output_type": "stream",
     "text": [
      "1 : First model! : \n"
     ]
    }
   ],
   "source": [
    "nm.describe()"
   ]
  },
  {
   "cell_type": "code",
   "execution_count": 8,
   "metadata": {},
   "outputs": [
    {
     "name": "stdout",
     "output_type": "stream",
     "text": [
      "2021-08-30 22:05:56,665 INFO sqlalchemy.engine.Engine INSERT INTO wbs (model_id, parent_id, path, name) VALUES (?, ?, ?, ?)\n",
      "2021-08-30 22:05:56,665 INFO sqlalchemy.engine.Engine [generated in 0.00076s] (1, None, '', 'Test 1')\n",
      "2021-08-30 22:05:56,672 INFO sqlalchemy.engine.Engine SELECT activities.model_id AS activities_model_id, activities.id AS activities_id, activities.wbs_id AS activities_wbs_id, activities.src_id AS activities_src_id, activities.dst_id AS activities_dst_id, activities.duration AS activities_duration, activities.early_start AS activities_early_start, activities.late_start AS activities_late_start, activities.early_end AS activities_early_end, activities.late_end AS activities_late_end, activities.reserve AS activities_reserve \n",
      "FROM activities \n",
      "WHERE ? = activities.wbs_id\n",
      "2021-08-30 22:05:56,673 INFO sqlalchemy.engine.Engine [generated in 0.00066s] (1,)\n",
      "2021-08-30 22:05:56,676 INFO sqlalchemy.engine.Engine UPDATE wbs SET path=? WHERE wbs.id = ?\n",
      "2021-08-30 22:05:56,676 INFO sqlalchemy.engine.Engine [generated in 0.00063s] ('1', 1)\n",
      "2021-08-30 22:05:56,678 INFO sqlalchemy.engine.Engine INSERT INTO activities (model_id, id, wbs_id, src_id, dst_id, duration, early_start, late_start, early_end, late_end, reserve) VALUES (?, ?, ?, ?, ?, ?, ?, ?, ?, ?, ?)\n",
      "2021-08-30 22:05:56,679 INFO sqlalchemy.engine.Engine [generated in 0.00071s] (1, 1, 1, None, None, 0.0, 0.0, 0.0, 0.0, 0.0, 0.0)\n"
     ]
    }
   ],
   "source": [
    "w1 = WBSRecord('Test 1', model=nm)\n",
    "a1 = Activity(w1)"
   ]
  },
  {
   "cell_type": "code",
   "execution_count": 9,
   "metadata": {},
   "outputs": [
    {
     "name": "stdout",
     "output_type": "stream",
     "text": [
      "2021-08-30 22:05:56,760 INFO sqlalchemy.engine.Engine INSERT INTO wbs (model_id, parent_id, path, name) VALUES (?, ?, ?, ?)\n",
      "2021-08-30 22:05:56,760 INFO sqlalchemy.engine.Engine [cached since 0.09546s ago] (1, None, '', 'Test 2')\n",
      "2021-08-30 22:05:56,762 INFO sqlalchemy.engine.Engine UPDATE wbs SET path=? WHERE wbs.id = ?\n",
      "2021-08-30 22:05:56,762 INFO sqlalchemy.engine.Engine [cached since 0.08684s ago] ('2', 2)\n",
      "2021-08-30 22:05:56,764 INFO sqlalchemy.engine.Engine INSERT INTO wbs (model_id, parent_id, path, name) VALUES (?, ?, ?, ?)\n",
      "2021-08-30 22:05:56,764 INFO sqlalchemy.engine.Engine [cached since 0.09959s ago] (1, 1, '', 'Test 3')\n",
      "2021-08-30 22:05:56,766 INFO sqlalchemy.engine.Engine SELECT activities.model_id AS activities_model_id, activities.id AS activities_id, activities.wbs_id AS activities_wbs_id, activities.src_id AS activities_src_id, activities.dst_id AS activities_dst_id, activities.duration AS activities_duration, activities.early_start AS activities_early_start, activities.late_start AS activities_late_start, activities.early_end AS activities_early_end, activities.late_end AS activities_late_end, activities.reserve AS activities_reserve \n",
      "FROM activities \n",
      "WHERE ? = activities.wbs_id\n",
      "2021-08-30 22:05:56,767 INFO sqlalchemy.engine.Engine [cached since 0.09484s ago] (3,)\n",
      "2021-08-30 22:05:56,768 INFO sqlalchemy.engine.Engine UPDATE wbs SET path=? WHERE wbs.id = ?\n",
      "2021-08-30 22:05:56,769 INFO sqlalchemy.engine.Engine [cached since 0.09327s ago] ('1.3', 3)\n",
      "2021-08-30 22:05:56,770 INFO sqlalchemy.engine.Engine INSERT INTO activities (model_id, id, wbs_id, src_id, dst_id, duration, early_start, late_start, early_end, late_end, reserve) VALUES (?, ?, ?, ?, ?, ?, ?, ?, ?, ?, ?)\n",
      "2021-08-30 22:05:56,771 INFO sqlalchemy.engine.Engine [cached since 0.09302s ago] (1, 3, 3, None, None, 0.0, 0.0, 0.0, 0.0, 0.0, 0.0)\n",
      "2021-08-30 22:05:56,776 INFO sqlalchemy.engine.Engine INSERT INTO events (id, model_id, early, late, reserve) VALUES (?, ?, ?, ?, ?)\n",
      "2021-08-30 22:05:56,777 INFO sqlalchemy.engine.Engine [generated in 0.00070s] ((1, 1, 0.0, 0.0, 0.0), (2, 1, 0.0, 0.0, 0.0), (3, 1, 0.0, 0.0, 0.0))\n",
      "2021-08-30 22:05:56,780 INFO sqlalchemy.engine.Engine SELECT activities.model_id AS activities_model_id, activities.id AS activities_id, activities.wbs_id AS activities_wbs_id, activities.src_id AS activities_src_id, activities.dst_id AS activities_dst_id, activities.duration AS activities_duration, activities.early_start AS activities_early_start, activities.late_start AS activities_late_start, activities.early_end AS activities_early_end, activities.late_end AS activities_late_end, activities.reserve AS activities_reserve \n",
      "FROM activities\n",
      "2021-08-30 22:05:56,780 INFO sqlalchemy.engine.Engine [generated in 0.00072s] ()\n",
      "[Activity(model_id=1 id=1, path='1', name='Test 1', src_id=None, dst_id=None), Activity(model_id=1 id=3, path='1.3', name='Test 3', src_id=None, dst_id=None)]\n"
     ]
    }
   ],
   "source": [
    "w2 = WBSRecord('Test 2', model=nm)\n",
    "w3 = WBSRecord('Test 3', parent=w1)\n",
    "a3 = Activity(w3)\n",
    "\n",
    "l1 = Link(src=a1, dst=a3)\n",
    "\n",
    "ev1 = Event(model=nm, id=1)\n",
    "ev2 = Event(model=nm, id=2)\n",
    "ev3 = Event(model=nm, id=3)\n",
    "print(session.query(Activity).all())"
   ]
  },
  {
   "cell_type": "code",
   "execution_count": 10,
   "metadata": {},
   "outputs": [
    {
     "name": "stdout",
     "output_type": "stream",
     "text": [
      "2021-08-30 22:05:56,924 INFO sqlalchemy.engine.Engine UPDATE activities SET src_id=?, dst_id=? WHERE activities.model_id = ? AND activities.id = ?\n",
      "2021-08-30 22:05:56,924 INFO sqlalchemy.engine.Engine [generated in 0.00068s] ((1, 2, 1, 1), (2, 3, 1, 3))\n",
      "2021-08-30 22:05:56,926 INFO sqlalchemy.engine.Engine SELECT activities.model_id AS activities_model_id, activities.id AS activities_id, activities.wbs_id AS activities_wbs_id, activities.src_id AS activities_src_id, activities.dst_id AS activities_dst_id, activities.duration AS activities_duration, activities.early_start AS activities_early_start, activities.late_start AS activities_late_start, activities.early_end AS activities_early_end, activities.late_end AS activities_late_end, activities.reserve AS activities_reserve \n",
      "FROM activities\n",
      "2021-08-30 22:05:56,926 INFO sqlalchemy.engine.Engine [cached since 0.1468s ago] ()\n",
      "[Activity(model_id=1 id=1, path='1', name='Test 1', src_id=1, dst_id=2), Activity(model_id=1 id=3, path='1.3', name='Test 3', src_id=2, dst_id=3)]\n"
     ]
    }
   ],
   "source": [
    "a1.src = ev1\n",
    "a1.dst = ev2\n",
    "\n",
    "a3.src = ev2\n",
    "a3.dst = ev3\n",
    "print(session.query(Activity).all())"
   ]
  },
  {
   "cell_type": "code",
   "execution_count": 11,
   "metadata": {},
   "outputs": [
    {
     "name": "stdout",
     "output_type": "stream",
     "text": [
      "2021-08-30 22:05:57,025 INFO sqlalchemy.engine.Engine SELECT wbs.id AS wbs_id, wbs.model_id AS wbs_model_id, wbs.parent_id AS wbs_parent_id, wbs.path AS wbs_path, wbs.name AS wbs_name \n",
      "FROM wbs \n",
      "WHERE wbs.model_id = ? AND wbs.parent_id IS NULL\n",
      "2021-08-30 22:05:57,026 INFO sqlalchemy.engine.Engine [generated in 0.00060s] (1,)\n",
      "[WBSRecord(model_id=1 id=1, path='1', name='Test 1'), WBSRecord(model_id=1 id=2, path='2', name='Test 2')]\n"
     ]
    }
   ],
   "source": [
    "print(nm.wbs_root)"
   ]
  },
  {
   "cell_type": "code",
   "execution_count": 12,
   "metadata": {},
   "outputs": [
    {
     "name": "stdout",
     "output_type": "stream",
     "text": [
      "2021-08-30 22:05:57,169 INFO sqlalchemy.engine.Engine SELECT wbs.id AS wbs_id, wbs.model_id AS wbs_model_id, wbs.parent_id AS wbs_parent_id, wbs.path AS wbs_path, wbs.name AS wbs_name \n",
      "FROM wbs \n",
      "WHERE ? = wbs.model_id\n",
      "2021-08-30 22:05:57,170 INFO sqlalchemy.engine.Engine [generated in 0.00079s] (1,)\n",
      "[WBSRecord(model_id=1 id=1, path='1', name='Test 1'), WBSRecord(model_id=1 id=2, path='2', name='Test 2'), WBSRecord(model_id=1 id=3, path='1.3', name='Test 3')]\n"
     ]
    }
   ],
   "source": [
    "print(nm.wbs)"
   ]
  },
  {
   "cell_type": "code",
   "execution_count": 13,
   "metadata": {},
   "outputs": [
    {
     "name": "stdout",
     "output_type": "stream",
     "text": [
      "2021-08-30 22:05:57,267 INFO sqlalchemy.engine.Engine INSERT INTO models (name, description) VALUES (?, ?)\n",
      "2021-08-30 22:05:57,268 INFO sqlalchemy.engine.Engine [cached since 0.9992s ago] ('Copy of: First model!', '')\n",
      "2021-08-30 22:05:57,269 INFO sqlalchemy.engine.Engine INSERT INTO wbs (model_id, parent_id, path, name) VALUES (?, ?, ?, ?)\n",
      "2021-08-30 22:05:57,270 INFO sqlalchemy.engine.Engine [cached since 0.6054s ago] (2, None, '', 'Test 1')\n",
      "2021-08-30 22:05:57,272 INFO sqlalchemy.engine.Engine SELECT activities.model_id AS activities_model_id, activities.id AS activities_id, activities.wbs_id AS activities_wbs_id, activities.src_id AS activities_src_id, activities.dst_id AS activities_dst_id, activities.duration AS activities_duration, activities.early_start AS activities_early_start, activities.late_start AS activities_late_start, activities.early_end AS activities_early_end, activities.late_end AS activities_late_end, activities.reserve AS activities_reserve \n",
      "FROM activities \n",
      "WHERE ? = activities.wbs_id\n",
      "2021-08-30 22:05:57,273 INFO sqlalchemy.engine.Engine [cached since 0.6016s ago] (4,)\n",
      "2021-08-30 22:05:57,275 INFO sqlalchemy.engine.Engine UPDATE wbs SET path=? WHERE wbs.id = ?\n",
      "2021-08-30 22:05:57,276 INFO sqlalchemy.engine.Engine [cached since 0.6002s ago] ('4', 4)\n",
      "2021-08-30 22:05:57,277 INFO sqlalchemy.engine.Engine INSERT INTO activities (model_id, id, wbs_id, src_id, dst_id, duration, early_start, late_start, early_end, late_end, reserve) VALUES (?, ?, ?, ?, ?, ?, ?, ?, ?, ?, ?)\n",
      "2021-08-30 22:05:57,278 INFO sqlalchemy.engine.Engine [cached since 0.5995s ago] (2, 1, 4, 1, 2, 0.0, 0.0, 0.0, 0.0, 0.0, 0.0)\n",
      "2021-08-30 22:05:57,281 INFO sqlalchemy.engine.Engine SELECT wbs.id AS wbs_id, wbs.model_id AS wbs_model_id, wbs.parent_id AS wbs_parent_id, wbs.path AS wbs_path, wbs.name AS wbs_name \n",
      "FROM wbs \n",
      "WHERE ? = wbs.parent_id\n",
      "2021-08-30 22:05:57,282 INFO sqlalchemy.engine.Engine [generated in 0.00076s] (1,)\n",
      "2021-08-30 22:05:57,285 INFO sqlalchemy.engine.Engine INSERT INTO wbs (model_id, parent_id, path, name) VALUES (?, ?, ?, ?)\n",
      "2021-08-30 22:05:57,286 INFO sqlalchemy.engine.Engine [cached since 0.6209s ago] (2, 4, '', 'Test 3')\n",
      "2021-08-30 22:05:57,288 INFO sqlalchemy.engine.Engine SELECT activities.model_id AS activities_model_id, activities.id AS activities_id, activities.wbs_id AS activities_wbs_id, activities.src_id AS activities_src_id, activities.dst_id AS activities_dst_id, activities.duration AS activities_duration, activities.early_start AS activities_early_start, activities.late_start AS activities_late_start, activities.early_end AS activities_early_end, activities.late_end AS activities_late_end, activities.reserve AS activities_reserve \n",
      "FROM activities \n",
      "WHERE ? = activities.wbs_id\n",
      "2021-08-30 22:05:57,289 INFO sqlalchemy.engine.Engine [cached since 0.6169s ago] (5,)\n",
      "2021-08-30 22:05:57,291 INFO sqlalchemy.engine.Engine UPDATE wbs SET path=? WHERE wbs.id = ?\n",
      "2021-08-30 22:05:57,292 INFO sqlalchemy.engine.Engine [cached since 0.6163s ago] ('4.5', 5)\n",
      "2021-08-30 22:05:57,293 INFO sqlalchemy.engine.Engine INSERT INTO activities (model_id, id, wbs_id, src_id, dst_id, duration, early_start, late_start, early_end, late_end, reserve) VALUES (?, ?, ?, ?, ?, ?, ?, ?, ?, ?, ?)\n",
      "2021-08-30 22:05:57,294 INFO sqlalchemy.engine.Engine [cached since 0.6154s ago] (2, 3, 5, 2, 3, 0.0, 0.0, 0.0, 0.0, 0.0, 0.0)\n",
      "2021-08-30 22:05:57,296 INFO sqlalchemy.engine.Engine SELECT wbs.id AS wbs_id, wbs.model_id AS wbs_model_id, wbs.parent_id AS wbs_parent_id, wbs.path AS wbs_path, wbs.name AS wbs_name \n",
      "FROM wbs \n",
      "WHERE ? = wbs.parent_id\n",
      "2021-08-30 22:05:57,297 INFO sqlalchemy.engine.Engine [cached since 0.01581s ago] (3,)\n",
      "2021-08-30 22:05:57,298 INFO sqlalchemy.engine.Engine SELECT wbs.id AS wbs_id, wbs.model_id AS wbs_model_id, wbs.parent_id AS wbs_parent_id, wbs.path AS wbs_path, wbs.name AS wbs_name \n",
      "FROM wbs \n",
      "WHERE ? = wbs.parent_id\n",
      "2021-08-30 22:05:57,299 INFO sqlalchemy.engine.Engine [cached since 0.01783s ago] (5,)\n",
      "2021-08-30 22:05:57,302 INFO sqlalchemy.engine.Engine SELECT wbs.id AS wbs_id, wbs.model_id AS wbs_model_id, wbs.parent_id AS wbs_parent_id, wbs.path AS wbs_path, wbs.name AS wbs_name \n",
      "FROM wbs \n",
      "WHERE ? = wbs.parent_id\n",
      "2021-08-30 22:05:57,302 INFO sqlalchemy.engine.Engine [cached since 0.02119s ago] (4,)\n",
      "2021-08-30 22:05:57,306 INFO sqlalchemy.engine.Engine INSERT INTO wbs (model_id, parent_id, path, name) VALUES (?, ?, ?, ?)\n",
      "2021-08-30 22:05:57,306 INFO sqlalchemy.engine.Engine [cached since 0.6417s ago] (2, None, '', 'Test 2')\n",
      "2021-08-30 22:05:57,309 INFO sqlalchemy.engine.Engine UPDATE wbs SET path=? WHERE wbs.id = ?\n",
      "2021-08-30 22:05:57,310 INFO sqlalchemy.engine.Engine [cached since 0.6339s ago] ('6', 6)\n",
      "2021-08-30 22:05:57,312 INFO sqlalchemy.engine.Engine SELECT activities.model_id AS activities_model_id, activities.id AS activities_id, activities.wbs_id AS activities_wbs_id, activities.src_id AS activities_src_id, activities.dst_id AS activities_dst_id, activities.duration AS activities_duration, activities.early_start AS activities_early_start, activities.late_start AS activities_late_start, activities.early_end AS activities_early_end, activities.late_end AS activities_late_end, activities.reserve AS activities_reserve \n",
      "FROM activities \n",
      "WHERE ? = activities.wbs_id\n",
      "2021-08-30 22:05:57,313 INFO sqlalchemy.engine.Engine [generated in 0.00185s] (2,)\n",
      "2021-08-30 22:05:57,315 INFO sqlalchemy.engine.Engine SELECT wbs.id AS wbs_id, wbs.model_id AS wbs_model_id, wbs.parent_id AS wbs_parent_id, wbs.path AS wbs_path, wbs.name AS wbs_name \n",
      "FROM wbs \n",
      "WHERE ? = wbs.parent_id\n",
      "2021-08-30 22:05:57,315 INFO sqlalchemy.engine.Engine [cached since 0.0343s ago] (2,)\n",
      "2021-08-30 22:05:57,317 INFO sqlalchemy.engine.Engine SELECT wbs.id AS wbs_id, wbs.model_id AS wbs_model_id, wbs.parent_id AS wbs_parent_id, wbs.path AS wbs_path, wbs.name AS wbs_name \n",
      "FROM wbs \n",
      "WHERE ? = wbs.parent_id\n",
      "2021-08-30 22:05:57,318 INFO sqlalchemy.engine.Engine [cached since 0.03646s ago] (6,)\n",
      "2021-08-30 22:05:57,322 INFO sqlalchemy.engine.Engine SELECT links.model_id AS links_model_id, links.src_id AS links_src_id, links.dst_id AS links_dst_id \n",
      "FROM links \n",
      "WHERE ? = links.model_id\n",
      "2021-08-30 22:05:57,323 INFO sqlalchemy.engine.Engine [generated in 0.00100s] (1,)\n",
      "2021-08-30 22:05:57,325 INFO sqlalchemy.engine.Engine SELECT links.model_id AS links_model_id, links.src_id AS links_src_id, links.dst_id AS links_dst_id \n",
      "FROM links \n",
      "WHERE ? = links.model_id\n",
      "2021-08-30 22:05:57,325 INFO sqlalchemy.engine.Engine [cached since 0.003501s ago] (2,)\n",
      "2021-08-30 22:05:57,330 INFO sqlalchemy.engine.Engine SELECT events.id AS events_id, events.model_id AS events_model_id, events.early AS events_early, events.late AS events_late, events.reserve AS events_reserve \n",
      "FROM events \n",
      "WHERE ? = events.model_id\n",
      "2021-08-30 22:05:57,330 INFO sqlalchemy.engine.Engine [generated in 0.00055s] (1,)\n",
      "2021-08-30 22:05:57,334 INFO sqlalchemy.engine.Engine INSERT INTO events (id, model_id, early, late, reserve) VALUES (?, ?, ?, ?, ?)\n",
      "2021-08-30 22:05:57,334 INFO sqlalchemy.engine.Engine [cached since 0.5583s ago] ((1, 2, 0.0, 0.0, 0.0), (2, 2, 0.0, 0.0, 0.0), (3, 2, 0.0, 0.0, 0.0))\n",
      "2021-08-30 22:05:57,335 INFO sqlalchemy.engine.Engine SELECT events.id AS events_id, events.model_id AS events_model_id, events.early AS events_early, events.late AS events_late, events.reserve AS events_reserve \n",
      "FROM events \n",
      "WHERE ? = events.model_id\n",
      "2021-08-30 22:05:57,336 INFO sqlalchemy.engine.Engine [cached since 0.006415s ago] (2,)\n"
     ]
    }
   ],
   "source": [
    "nm2 = nm.copy()"
   ]
  },
  {
   "cell_type": "code",
   "execution_count": 14,
   "metadata": {},
   "outputs": [
    {
     "name": "stdout",
     "output_type": "stream",
     "text": [
      "2021-08-30 22:05:57,366 INFO sqlalchemy.engine.Engine SELECT wbs.id AS wbs_id, wbs.model_id AS wbs_model_id, wbs.parent_id AS wbs_parent_id, wbs.path AS wbs_path, wbs.name AS wbs_name \n",
      "FROM wbs \n",
      "WHERE ? = wbs.model_id\n",
      "2021-08-30 22:05:57,367 INFO sqlalchemy.engine.Engine [cached since 0.1986s ago] (2,)\n",
      "[WBSRecord(model_id=2 id=4, path='4', name='Test 1'), WBSRecord(model_id=2 id=5, path='4.5', name='Test 3'), WBSRecord(model_id=2 id=6, path='6', name='Test 2')]\n"
     ]
    }
   ],
   "source": [
    "print(nm2.wbs)"
   ]
  },
  {
   "cell_type": "code",
   "execution_count": 15,
   "metadata": {},
   "outputs": [
    {
     "name": "stdout",
     "output_type": "stream",
     "text": [
      "2021-08-30 22:05:57,499 INFO sqlalchemy.engine.Engine SELECT wbs.id AS wbs_id, wbs.model_id AS wbs_model_id, wbs.parent_id AS wbs_parent_id, wbs.path AS wbs_path, wbs.name AS wbs_name \n",
      "FROM wbs\n",
      "2021-08-30 22:05:57,500 INFO sqlalchemy.engine.Engine [generated in 0.00058s] ()\n",
      "[WBSRecord(model_id=1 id=1, path='1', name='Test 1'), WBSRecord(model_id=1 id=2, path='2', name='Test 2'), WBSRecord(model_id=1 id=3, path='1.3', name='Test 3'), WBSRecord(model_id=2 id=4, path='4', name='Test 1'), WBSRecord(model_id=2 id=5, path='4.5', name='Test 3'), WBSRecord(model_id=2 id=6, path='6', name='Test 2')]\n"
     ]
    }
   ],
   "source": [
    "from sqlalchemy import select, text\n",
    "print(session.query(WBSRecord).all())"
   ]
  },
  {
   "cell_type": "code",
   "execution_count": 16,
   "metadata": {},
   "outputs": [
    {
     "name": "stdout",
     "output_type": "stream",
     "text": [
      "2021-08-30 22:05:57,632 INFO sqlalchemy.engine.Engine SELECT activities.model_id AS activities_model_id, activities.id AS activities_id, activities.wbs_id AS activities_wbs_id, activities.src_id AS activities_src_id, activities.dst_id AS activities_dst_id, activities.duration AS activities_duration, activities.early_start AS activities_early_start, activities.late_start AS activities_late_start, activities.early_end AS activities_early_end, activities.late_end AS activities_late_end, activities.reserve AS activities_reserve \n",
      "FROM activities\n",
      "2021-08-30 22:05:57,632 INFO sqlalchemy.engine.Engine [cached since 0.8529s ago] ()\n",
      "[Activity(model_id=1 id=1, path='1', name='Test 1', src_id=1, dst_id=2), Activity(model_id=1 id=3, path='1.3', name='Test 3', src_id=2, dst_id=3), Activity(model_id=2 id=1, path='4', name='Test 1', src_id=1, dst_id=2), Activity(model_id=2 id=3, path='4.5', name='Test 3', src_id=2, dst_id=3)]\n"
     ]
    }
   ],
   "source": [
    "print(session.query(Activity).all())"
   ]
  },
  {
   "cell_type": "code",
   "execution_count": 17,
   "metadata": {},
   "outputs": [
    {
     "name": "stdout",
     "output_type": "stream",
     "text": [
      "2021-08-30 22:05:57,710 INFO sqlalchemy.engine.Engine SELECT links.model_id AS links_model_id, links.src_id AS links_src_id, links.dst_id AS links_dst_id \n",
      "FROM links\n",
      "2021-08-30 22:05:57,710 INFO sqlalchemy.engine.Engine [generated in 0.00082s] ()\n",
      "[]\n"
     ]
    }
   ],
   "source": [
    "print(session.query(Link).all())"
   ]
  },
  {
   "cell_type": "code",
   "execution_count": 18,
   "metadata": {},
   "outputs": [
    {
     "name": "stdout",
     "output_type": "stream",
     "text": [
      "2021-08-30 22:05:57,843 INFO sqlalchemy.engine.Engine SELECT events.id AS events_id, events.model_id AS events_model_id, events.early AS events_early, events.late AS events_late, events.reserve AS events_reserve \n",
      "FROM events\n",
      "2021-08-30 22:05:57,843 INFO sqlalchemy.engine.Engine [generated in 0.00059s] ()\n",
      "[Event(model_id=1 id=1), Event(model_id=1 id=2), Event(model_id=1 id=3), Event(model_id=2 id=1), Event(model_id=2 id=2), Event(model_id=2 id=3)]\n"
     ]
    }
   ],
   "source": [
    "print(session.query(Event).all())"
   ]
  },
  {
   "cell_type": "code",
   "execution_count": null,
   "metadata": {},
   "outputs": [],
   "source": []
  }
 ],
 "metadata": {
  "kernelspec": {
   "display_name": "Python 3",
   "language": "python",
   "name": "python3"
  },
  "language_info": {
   "codemirror_mode": {
    "name": "ipython",
    "version": 3
   },
   "file_extension": ".py",
   "mimetype": "text/x-python",
   "name": "python",
   "nbconvert_exporter": "python",
   "pygments_lexer": "ipython3",
   "version": "3.6.13"
  }
 },
 "nbformat": 4,
 "nbformat_minor": 4
}
